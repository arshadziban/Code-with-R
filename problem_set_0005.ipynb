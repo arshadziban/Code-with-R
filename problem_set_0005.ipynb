{
 "cells": [
  {
   "cell_type": "code",
   "execution_count": 1,
   "metadata": {
    "vscode": {
     "languageId": "r"
    }
   },
   "outputs": [
    {
     "name": "stdout",
     "output_type": "stream",
     "text": [
      "[1] 0 0 0 0 0 0\n",
      "[1] 0+0i 0+0i 0+0i 0+0i 0+0i 0+0i\n",
      "[1] FALSE FALSE FALSE FALSE FALSE FALSE\n",
      "[1] \"\" \"\" \"\" \"\" \"\" \"\"\n"
     ]
    }
   ],
   "source": [
    "# 1. Write a R program to create a vector of a specified type and length. Create vector of numeric, complex, logical and character types of length 6.\n",
    "\n",
    "numeric_vec <- vector(\"numeric\", 6)\n",
    "complex_vec <- vector(\"complex\", 6)\n",
    "logical_vec <- vector(\"logical\", 6)\n",
    "character_vec <- vector(\"character\", 6)\n",
    "\n",
    "print(numeric_vec)\n",
    "print(complex_vec)\n",
    "print(logical_vec)\n",
    "print(character_vec)"
   ]
  },
  {
   "cell_type": "code",
   "execution_count": 3,
   "metadata": {
    "vscode": {
     "languageId": "r"
    }
   },
   "outputs": [
    {
     "data": {
      "text/html": [
       "<ol class=list-inline>\n",
       "\t<li>5</li>\n",
       "\t<li>7</li>\n",
       "\t<li>9</li>\n",
       "</ol>\n"
      ],
      "text/latex": [
       "\\begin{enumerate*}\n",
       "\\item 5\n",
       "\\item 7\n",
       "\\item 9\n",
       "\\end{enumerate*}\n"
      ],
      "text/markdown": [
       "1. 5\n",
       "2. 7\n",
       "3. 9\n",
       "\n",
       "\n"
      ],
      "text/plain": [
       "[1] 5 7 9"
      ]
     },
     "metadata": {},
     "output_type": "display_data"
    },
    {
     "name": "stdout",
     "output_type": "stream",
     "text": [
      "[1] 5 7 9\n"
     ]
    }
   ],
   "source": [
    "# 2. Write a R program to add two vectors of integers type and length 3.\n",
    "\n",
    "vec1 <- c(1, 2, 3)\n",
    "vec2 <- c(4, 5, 6)\n",
    "result <- vec1 + vec2\n",
    "\n",
    "result\n",
    "print(result)"
   ]
  },
  {
   "cell_type": "code",
   "execution_count": null,
   "metadata": {
    "vscode": {
     "languageId": "r"
    }
   },
   "outputs": [
    {
     "name": "stdout",
     "output_type": "stream",
     "text": [
      "[1] 10 20 30\n"
     ]
    }
   ],
   "source": [
    "# 3. Write a R program to append value to a given empty vector.\n",
    "# Initialize an empty vector\n",
    "my_vector <- c()\n",
    "\n",
    "# Append values to the vector\n",
    "my_vector <- c(my_vector, 10)  \n",
    "my_vector <- c(my_vector, 20)  \n",
    "my_vector <- c(my_vector, 30) \n",
    "\n",
    "# Print the updated vector\n",
    "print(my_vector)\n"
   ]
  },
  {
   "cell_type": "code",
   "execution_count": 5,
   "metadata": {
    "vscode": {
     "languageId": "r"
    }
   },
   "outputs": [
    {
     "name": "stdout",
     "output_type": "stream",
     "text": [
      "[1]  4 10 18\n"
     ]
    }
   ],
   "source": [
    "# 4. Write a R program to multiply two vectors of integers type and length 3.\n",
    "\n",
    "vec1 <- c(1, 2, 3)\n",
    "vec2 <- c(4, 5, 6)\n",
    "result <- vec1 * vec2\n",
    "print(result)"
   ]
  },
  {
   "cell_type": "code",
   "execution_count": 6,
   "metadata": {
    "vscode": {
     "languageId": "r"
    }
   },
   "outputs": [
    {
     "name": "stdout",
     "output_type": "stream",
     "text": [
      "[1] 0.25 0.40 0.50\n"
     ]
    }
   ],
   "source": [
    "# 5. Write a R program to divide two vectors of integers type and length 3.\n",
    "\n",
    "result <- vec1 / vec2\n",
    "print(result)\n"
   ]
  },
  {
   "cell_type": "code",
   "execution_count": 7,
   "metadata": {
    "vscode": {
     "languageId": "r"
    }
   },
   "outputs": [
    {
     "name": "stdout",
     "output_type": "stream",
     "text": [
      "[1] \"Sum: 6 Mean: 5 Product: 6\"\n"
     ]
    }
   ],
   "source": [
    "sum_vec <- sum(vec1)\n",
    "mean_vec <- mean(vec2)\n",
    "prod_vec <- prod(vec1)\n",
    "print(paste(\"Sum:\", sum_vec, \"Mean:\", mean_vec, \"Product:\", prod_vec))"
   ]
  },
  {
   "cell_type": "code",
   "execution_count": 8,
   "metadata": {
    "vscode": {
     "languageId": "r"
    }
   },
   "outputs": [
    {
     "name": "stdout",
     "output_type": "stream",
     "text": [
      "[1] \"Sum: 13 Mean: 3.25 Product: 48\"\n"
     ]
    }
   ],
   "source": [
    "# 7. Write a R program to find Sum, Mean and Product of a Vector, ignore element like NA or NaN.\n",
    "\n",
    "vec <- c(1, 2, NA, 4, NaN, 6)\n",
    "sum_vec <- sum(vec, na.rm = TRUE)\n",
    "mean_vec <- mean(vec, na.rm = TRUE)\n",
    "prod_vec <- prod(vec, na.rm = TRUE)\n",
    "print(paste(\"Sum:\", sum_vec, \"Mean:\", mean_vec, \"Product:\", prod_vec))"
   ]
  },
  {
   "cell_type": "code",
   "execution_count": 9,
   "metadata": {
    "vscode": {
     "languageId": "r"
    }
   },
   "outputs": [
    {
     "name": "stdout",
     "output_type": "stream",
     "text": [
      "[1] \"Minimum: 1 Maximum: 9\"\n"
     ]
    }
   ],
   "source": [
    "# 8. Write a R program to find the minimum and the maximum of a Vector.\n",
    "\n",
    "vec <- c(3, 7, 2, 9, 4, 1, 8)\n",
    "min_val <- min(vec)\n",
    "max_val <- max(vec)\n",
    "print(paste(\"Minimum:\", min_val, \"Maximum:\", max_val))"
   ]
  },
  {
   "cell_type": "code",
   "execution_count": 10,
   "metadata": {
    "vscode": {
     "languageId": "r"
    }
   },
   "outputs": [
    {
     "name": "stdout",
     "output_type": "stream",
     "text": [
      "[1] \"Ascending:\"\n",
      "[1] 1 2 3 4 7 8 9\n",
      "[1] \"Descending:\"\n",
      "[1] 9 8 7 4 3 2 1\n"
     ]
    }
   ],
   "source": [
    "# 9. Write a R program to sort a Vector in ascending and descending order.\n",
    "\n",
    "vec <- c(3, 7, 2, 9, 4, 1, 8)\n",
    "asc_sorted <- sort(vec)\n",
    "desc_sorted <- sort(vec, decreasing = TRUE)\n",
    "print(\"Ascending:\")\n",
    "print(asc_sorted)\n",
    "print(\"Descending:\")\n",
    "print(desc_sorted)"
   ]
  },
  {
   "cell_type": "code",
   "execution_count": 11,
   "metadata": {
    "vscode": {
     "languageId": "r"
    }
   },
   "outputs": [
    {
     "name": "stdout",
     "output_type": "stream",
     "text": [
      "[1] \"Vector contains 3 : TRUE\"\n"
     ]
    }
   ],
   "source": [
    "# 10. Write a R program to test whether a given vector contains a specified element.\n",
    "\n",
    "vec <- c(1, 2, 3, 4, 5)\n",
    "element <- 3\n",
    "contains <- element %in% vec\n",
    "print(paste(\"Vector contains\", element, \":\", contains))"
   ]
  },
  {
   "cell_type": "code",
   "execution_count": 12,
   "metadata": {
    "vscode": {
     "languageId": "r"
    }
   },
   "outputs": [
    {
     "name": "stdout",
     "output_type": "stream",
     "text": [
      "[1] \"Count of 2 : 3\"\n"
     ]
    }
   ],
   "source": [
    "# 11. Write a R program to count the specific value in a given vector.\n",
    "\n",
    "vec <- c(1, 2, 3, 2, 4, 2, 5)\n",
    "value <- 2\n",
    "count <- sum(vec == value)\n",
    "print(paste(\"Count of\", value, \":\", count))"
   ]
  },
  {
   "cell_type": "code",
   "execution_count": 13,
   "metadata": {
    "vscode": {
     "languageId": "r"
    }
   },
   "outputs": [
    {
     "name": "stdout",
     "output_type": "stream",
     "text": [
      "[1] \"Last value: 5\"\n"
     ]
    }
   ],
   "source": [
    "# 12. Write a R program to access the last value in a given vector.\n",
    "\n",
    "vec <- c(1, 2, 3, 4, 5)\n",
    "last_value <- vec[length(vec)]\n",
    "print(paste(\"Last value:\", last_value))\n"
   ]
  },
  {
   "cell_type": "code",
   "execution_count": 14,
   "metadata": {
    "vscode": {
     "languageId": "r"
    }
   },
   "outputs": [
    {
     "name": "stdout",
     "output_type": "stream",
     "text": [
      "[1] \"Second highest value: 8\"\n"
     ]
    }
   ],
   "source": [
    "# 13. Write a R program to find second highest value in a given vector.\n",
    "\n",
    "vec <- c(5, 9, 3, 7, 1, 8)\n",
    "second_highest <- sort(unique(vec), decreasing = TRUE)[2]\n",
    "print(paste(\"Second highest value:\", second_highest))"
   ]
  },
  {
   "cell_type": "code",
   "execution_count": 15,
   "metadata": {
    "vscode": {
     "languageId": "r"
    }
   },
   "outputs": [
    {
     "name": "stdout",
     "output_type": "stream",
     "text": [
      "[1] \"Common elements:\"\n",
      "[1] 4 5\n"
     ]
    }
   ],
   "source": [
    "# 14. Write a R program to find common elements from multiple vectors.\n",
    "\n",
    "vec1 <- c(1, 2, 3, 4, 5)\n",
    "vec2 <- c(3, 4, 5, 6, 7)\n",
    "vec3 <- c(4, 5, 6, 7, 8)\n",
    "common_elements <- Reduce(intersect, list(vec1, vec2, vec3))\n",
    "print(\"Common elements:\")\n",
    "print(common_elements)"
   ]
  }
 ],
 "metadata": {
  "kernelspec": {
   "display_name": "R",
   "language": "R",
   "name": "ir"
  },
  "language_info": {
   "codemirror_mode": "r",
   "file_extension": ".r",
   "mimetype": "text/x-r-source",
   "name": "R",
   "pygments_lexer": "r",
   "version": "3.6.1"
  }
 },
 "nbformat": 4,
 "nbformat_minor": 2
}
