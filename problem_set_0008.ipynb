{
  "nbformat": 4,
  "nbformat_minor": 0,
  "metadata": {
    "colab": {
      "provenance": [],
      "gpuType": "T4"
    },
    "kernelspec": {
      "name": "ir",
      "display_name": "R"
    },
    "language_info": {
      "name": "R"
    },
    "accelerator": "GPU"
  },
  "cells": [
    {
      "cell_type": "code",
      "source": [
        "!apt-get install r-base -y\n",
        "!pip install rpy2"
      ],
      "metadata": {
        "colab": {
          "base_uri": "https://localhost:8080/"
        },
        "id": "oNLpCe_olL3o",
        "outputId": "7463f5b5-caac-431d-d66a-f6016b1f3741"
      },
      "execution_count": 14,
      "outputs": [
        {
          "output_type": "stream",
          "name": "stdout",
          "text": [
            "Reading package lists... Done\n",
            "Building dependency tree... Done\n",
            "Reading state information... Done\n",
            "r-base is already the newest version (4.4.3-1.2204.0).\n",
            "0 upgraded, 0 newly installed, 0 to remove and 29 not upgraded.\n",
            "Requirement already satisfied: rpy2 in /usr/local/lib/python3.11/dist-packages (3.5.17)\n",
            "Requirement already satisfied: cffi>=1.15.1 in /usr/local/lib/python3.11/dist-packages (from rpy2) (1.17.1)\n",
            "Requirement already satisfied: jinja2 in /usr/local/lib/python3.11/dist-packages (from rpy2) (3.1.6)\n",
            "Requirement already satisfied: tzlocal in /usr/local/lib/python3.11/dist-packages (from rpy2) (5.3.1)\n",
            "Requirement already satisfied: pycparser in /usr/local/lib/python3.11/dist-packages (from cffi>=1.15.1->rpy2) (2.22)\n",
            "Requirement already satisfied: MarkupSafe>=2.0 in /usr/local/lib/python3.11/dist-packages (from jinja2->rpy2) (3.0.2)\n"
          ]
        }
      ]
    },
    {
      "cell_type": "code",
      "source": [
        "%load_ext rpy2.ipython"
      ],
      "metadata": {
        "colab": {
          "base_uri": "https://localhost:8080/"
        },
        "id": "4dugZ4YilRGh",
        "outputId": "36445d4b-5945-4b5c-a8b0-455820dbbbf7"
      },
      "execution_count": 15,
      "outputs": [
        {
          "output_type": "stream",
          "name": "stdout",
          "text": [
            "The rpy2.ipython extension is already loaded. To reload it, use:\n",
            "  %reload_ext rpy2.ipython\n"
          ]
        }
      ]
    },
    {
      "cell_type": "markdown",
      "source": [
        "# Implement a Binary Search Algorithm"
      ],
      "metadata": {
        "id": "Y6FshIbdlcGD"
      }
    },
    {
      "cell_type": "code",
      "source": [
        "%%R\n",
        "\n",
        "# binary search function\n",
        "binary_search <- function(arr, target) {\n",
        "  left <- 1\n",
        "  right <- length(arr)\n",
        "\n",
        "  while (left <= right) {\n",
        "    mid <- floor((left + right) / 2)\n",
        "\n",
        "    if (arr[mid] == target) {\n",
        "      return(mid)\n",
        "    } else if (arr[mid] < target) {\n",
        "      left <- mid + 1\n",
        "    } else {\n",
        "      right <- mid - 1\n",
        "    }\n",
        "  }\n",
        "\n",
        "  return(-1)\n",
        "}\n",
        "\n",
        "# Example Usage\n",
        "sorted_vector <- c(1, 3, 5, 7, 9, 11, 15)\n",
        "target_value <- 5\n",
        "\n",
        "result <- binary_search(sorted_vector, target_value)\n",
        "if (result != -1) {\n",
        "  cat(\"Element found at index:\", result, \"\\n\")\n",
        "} else {\n",
        "  cat(\"Element not found in the array\\n\")\n",
        "}"
      ],
      "metadata": {
        "colab": {
          "base_uri": "https://localhost:8080/"
        },
        "id": "E6ojB_LrkpGp",
        "outputId": "07136239-371f-40cd-c70e-55dd34ebc146"
      },
      "execution_count": 18,
      "outputs": [
        {
          "output_type": "stream",
          "name": "stdout",
          "text": [
            "Element found at index: 3 \n"
          ]
        }
      ]
    },
    {
      "cell_type": "code",
      "source": [],
      "metadata": {
        "id": "SdnH4U-SltLe"
      },
      "execution_count": null,
      "outputs": []
    }
  ]
}