{
 "cells": [
  {
   "cell_type": "code",
   "execution_count": 1,
   "metadata": {
    "vscode": {
     "languageId": "r"
    }
   },
   "outputs": [
    {
     "name": "stdout",
     "output_type": "stream",
     "text": [
      "[[1]]\n",
      "[1] \"Hello\"\n",
      "\n",
      "[[2]]\n",
      "[1] 42\n",
      "\n",
      "[[3]]\n",
      "[1] 1 2 3\n",
      "\n",
      "[[4]]\n",
      "[1] TRUE\n",
      "\n"
     ]
    }
   ],
   "source": [
    "# 1. Write a R program to create a list containing strings, numbers, vectors and a logical values.\n",
    "\n",
    "my_list <- list(\n",
    "  \"Hello\",\n",
    "  42,\n",
    "  c(1, 2, 3),\n",
    "  TRUE\n",
    ")\n",
    "print(my_list)"
   ]
  },
  {
   "cell_type": "code",
   "execution_count": 2,
   "metadata": {
    "vscode": {
     "languageId": "r"
    }
   },
   "outputs": [
    {
     "name": "stdout",
     "output_type": "stream",
     "text": [
      "$vec\n",
      "[1] 1 2 3\n",
      "\n",
      "$mat\n",
      "     [,1] [,2] [,3]\n",
      "[1,]    1    3    5\n",
      "[2,]    2    4    6\n",
      "\n",
      "$nested_list\n",
      "$nested_list[[1]]\n",
      "[1] \"a\"\n",
      "\n",
      "$nested_list[[2]]\n",
      "[1] \"b\"\n",
      "\n",
      "$nested_list[[3]]\n",
      "[1] \"c\"\n",
      "\n",
      "\n"
     ]
    }
   ],
   "source": [
    "# 2. Write a R program to list containing a vector, a matrix and a list and give names to the elements in the list.\n",
    "\n",
    "my_list <- list(\n",
    "  vec = c(1, 2, 3),\n",
    "  mat = matrix(1:6, nrow = 2),\n",
    "  nested_list = list(\"a\", \"b\", \"c\")\n",
    ")\n",
    "print(my_list)"
   ]
  },
  {
   "cell_type": "code",
   "execution_count": 3,
   "metadata": {
    "vscode": {
     "languageId": "r"
    }
   },
   "outputs": [
    {
     "name": "stdout",
     "output_type": "stream",
     "text": [
      "[1] 1 2 3\n",
      "     [,1] [,2] [,3]\n",
      "[1,]    1    3    5\n",
      "[2,]    2    4    6\n"
     ]
    }
   ],
   "source": [
    "# 3. Write a R program to create a list containing a vector, a matrix and a list and give names to the elements in the list. Access the first and second element of the list.\n",
    "\n",
    "my_list <- list(\n",
    "  vec = c(1, 2, 3),\n",
    "  mat = matrix(1:6, nrow = 2),\n",
    "  nested_list = list(\"a\", \"b\", \"c\")\n",
    ")\n",
    "print(my_list$vec)\n",
    "print(my_list$mat)"
   ]
  },
  {
   "cell_type": "code",
   "execution_count": 4,
   "metadata": {
    "vscode": {
     "languageId": "r"
    }
   },
   "outputs": [
    {
     "name": "stdout",
     "output_type": "stream",
     "text": [
      "[[1]]\n",
      "[1] \"a\"\n",
      "\n",
      "[[2]]\n",
      "[1] \"b\"\n",
      "\n",
      "[[3]]\n",
      "[1] \"c\"\n",
      "\n"
     ]
    }
   ],
   "source": [
    "print(my_list$nested_list)"
   ]
  },
  {
   "cell_type": "code",
   "execution_count": 5,
   "metadata": {
    "vscode": {
     "languageId": "r"
    }
   },
   "outputs": [
    {
     "name": "stdout",
     "output_type": "stream",
     "text": [
      "$vec1\n",
      "[1] 11 12 13\n",
      "\n",
      "$vec2\n",
      "[1] 4 5 6\n",
      "\n"
     ]
    }
   ],
   "source": [
    "# 4. Write a R program to Add 10 to each element of the first vector in a given list\n",
    "\n",
    "my_list <- list(\n",
    "  vec1 = c(1, 2, 3),\n",
    "  vec2 = c(4, 5, 6)\n",
    ")\n",
    "my_list$vec1 <- my_list$vec1 + 10\n",
    "print(my_list)"
   ]
  },
  {
   "cell_type": "code",
   "execution_count": 7,
   "metadata": {
    "vscode": {
     "languageId": "r"
    }
   },
   "outputs": [
    {
     "name": "stdout",
     "output_type": "stream",
     "text": [
      "[1] 11 12 13\n"
     ]
    }
   ],
   "source": [
    "print(my_list$vec1)"
   ]
  },
  {
   "cell_type": "code",
   "execution_count": 8,
   "metadata": {
    "vscode": {
     "languageId": "r"
    }
   },
   "outputs": [
    {
     "name": "stdout",
     "output_type": "stream",
     "text": [
      "[1] 1 2 4 5\n"
     ]
    }
   ],
   "source": [
    "# 5. Write a R program to extract all elements except the third element of the first vector of a given list.\n",
    "\n",
    "my_list <- list(\n",
    "  vec1 = c(1, 2, 3, 4, 5),\n",
    "  vec2 = c(6, 7, 8, 9, 10)\n",
    ")\n",
    "result <- my_list$vec1[-3]\n",
    "print(result)"
   ]
  },
  {
   "cell_type": "code",
   "execution_count": 9,
   "metadata": {
    "vscode": {
     "languageId": "r"
    }
   },
   "outputs": [
    {
     "name": "stdout",
     "output_type": "stream",
     "text": [
      "[1] 1 2\n"
     ]
    }
   ],
   "source": [
    "# 6. Write a R program to find all elements of a given list that are not in another given list.\n",
    "\n",
    "list1 <- list(1, 2, 3, 4, 5)\n",
    "list2 <- list(3, 4, 5, 6, 7)\n",
    "diff_elements <- setdiff(unlist(list1), unlist(list2))\n",
    "print(diff_elements)"
   ]
  },
  {
   "cell_type": "code",
   "execution_count": null,
   "metadata": {
    "vscode": {
     "languageId": "r"
    }
   },
   "outputs": [],
   "source": []
  }
 ],
 "metadata": {
  "kernelspec": {
   "display_name": "R",
   "language": "R",
   "name": "ir"
  },
  "language_info": {
   "codemirror_mode": "r",
   "file_extension": ".r",
   "mimetype": "text/x-r-source",
   "name": "R",
   "pygments_lexer": "r",
   "version": "3.6.1"
  }
 },
 "nbformat": 4,
 "nbformat_minor": 2
}
