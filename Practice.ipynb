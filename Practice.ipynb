{
 "cells": [
  {
   "cell_type": "code",
   "execution_count": 7,
   "id": "033667f5-914f-4636-8eef-40a4eb3ec7da",
   "metadata": {},
   "outputs": [
    {
     "data": {
      "text/html": [
       "'Hello R'"
      ],
      "text/latex": [
       "'Hello R'"
      ],
      "text/markdown": [
       "'Hello R'"
      ],
      "text/plain": [
       "[1] \"Hello R\""
      ]
     },
     "metadata": {},
     "output_type": "display_data"
    }
   ],
   "source": [
    "#simple print\n",
    "'Hello R'"
   ]
  },
  {
   "cell_type": "code",
   "execution_count": 5,
   "id": "20710fe1-edba-45a7-a13c-f36ddf98869d",
   "metadata": {},
   "outputs": [
    {
     "data": {
      "image/png": "[encoded data removed]",
      "text/plain": [
       "plot without title"
      ]
     },
     "metadata": {},
     "output_type": "display_data"
    }
   ],
   "source": [
    "#Create graph\n",
    "plot(1:10)"
   ]
  },
  {
   "cell_type": "code",
   "execution_count": 10,
   "id": "6cecdc6c-ada7-4ba1-9ceb-50a5ee88fc7f",
   "metadata": {},
   "outputs": [
    {
     "data": {
      "text/html": [
       "'Ziban'"
      ],
      "text/latex": [
       "'Ziban'"
      ],
      "text/markdown": [
       "'Ziban'"
      ],
      "text/plain": [
       "[1] \"Ziban\""
      ]
     },
     "metadata": {},
     "output_type": "display_data"
    },
    {
     "data": {
      "text/html": [
       "40"
      ],
      "text/latex": [
       "40"
      ],
      "text/markdown": [
       "40"
      ],
      "text/plain": [
       "[1] 40"
      ]
     },
     "metadata": {},
     "output_type": "display_data"
    }
   ],
   "source": [
    "#variables \n",
    "name <- \"Ziban\"\n",
    "age <- 40\n",
    "\n",
    "name\n",
    "age"
   ]
  },
  {
   "cell_type": "code",
   "execution_count": 14,
   "id": "261105ad-3f33-4269-89b4-b63a9b15ef56",
   "metadata": {},
   "outputs": [
    {
     "data": {
      "text/html": [
       "'My name is Ziban and age is 40'"
      ],
      "text/latex": [
       "'My name is Ziban and age is 40'"
      ],
      "text/markdown": [
       "'My name is Ziban and age is 40'"
      ],
      "text/plain": [
       "[1] \"My name is Ziban and age is 40\""
      ]
     },
     "metadata": {},
     "output_type": "display_data"
    }
   ],
   "source": [
    "#Concatenate Elements\n",
    "paste ('My name is',name,'and age is',age)"
   ]
  },
  {
   "cell_type": "code",
   "execution_count": 17,
   "id": "17e731dc-1e5e-495f-b3f2-8b5db4b0daa2",
   "metadata": {},
   "outputs": [
    {
     "data": {
      "text/html": [
       "'character'"
      ],
      "text/latex": [
       "'character'"
      ],
      "text/markdown": [
       "'character'"
      ],
      "text/plain": [
       "[1] \"character\""
      ]
     },
     "metadata": {},
     "output_type": "display_data"
    },
    {
     "data": {
      "text/html": [
       "'numeric'"
      ],
      "text/latex": [
       "'numeric'"
      ],
      "text/markdown": [
       "'numeric'"
      ],
      "text/plain": [
       "[1] \"numeric\""
      ]
     },
     "metadata": {},
     "output_type": "display_data"
    }
   ],
   "source": [
    "#We can use the class() function to check the data type of a variable\n",
    "class(name)\n",
    "class (age)"
   ]
  },
  {
   "cell_type": "code",
   "execution_count": 18,
   "id": "8dba9039-a18c-4dd8-8f81-d2b6e988829c",
   "metadata": {},
   "outputs": [
    {
     "data": {
      "text/html": [
       "'complex'"
      ],
      "text/latex": [
       "'complex'"
      ],
      "text/markdown": [
       "'complex'"
      ],
      "text/plain": [
       "[1] \"complex\""
      ]
     },
     "metadata": {},
     "output_type": "display_data"
    }
   ],
   "source": [
    "x <- 9i + 3\n",
    "class(x)"
   ]
  },
  {
   "cell_type": "code",
   "execution_count": 19,
   "id": "478ad97b-60c7-48cb-9443-80a95b45c8db",
   "metadata": {},
   "outputs": [],
   "source": [
    "#value converting\n",
    "x <- 1L #integer\n",
    "a <- as.numeric(x)"
   ]
  },
  {
   "cell_type": "code",
   "execution_count": 20,
   "id": "1f08bf20-15bf-4546-9d26-6850e6553f3c",
   "metadata": {},
   "outputs": [
    {
     "data": {
      "text/html": [
       "1"
      ],
      "text/latex": [
       "1"
      ],
      "text/markdown": [
       "1"
      ],
      "text/plain": [
       "[1] 1"
      ]
     },
     "metadata": {},
     "output_type": "display_data"
    }
   ],
   "source": [
    "a"
   ]
  },
  {
   "cell_type": "code",
   "execution_count": 21,
   "id": "b4eb2a3d-e513-4873-81d2-e438bb66e2ff",
   "metadata": {},
   "outputs": [
    {
     "data": {
      "text/html": [
       "80"
      ],
      "text/latex": [
       "80"
      ],
      "text/markdown": [
       "80"
      ],
      "text/plain": [
       "[1] 80"
      ]
     },
     "metadata": {},
     "output_type": "display_data"
    }
   ],
   "source": [
    "#simple math\n",
    "30+50"
   ]
  },
  {
   "cell_type": "code",
   "execution_count": 22,
   "id": "ee29c723-6943-49aa-9251-a6ef10ac54e7",
   "metadata": {},
   "outputs": [
    {
     "data": {
      "text/html": [
       "8"
      ],
      "text/latex": [
       "8"
      ],
      "text/markdown": [
       "8"
      ],
      "text/plain": [
       "[1] 8"
      ]
     },
     "metadata": {},
     "output_type": "display_data"
    }
   ],
   "source": [
    "max_val =  max(4,6,8)\n",
    "max_val"
   ]
  },
  {
   "cell_type": "code",
   "execution_count": 23,
   "id": "3efe412c-4714-43bb-a0e6-a2032510ce2a",
   "metadata": {},
   "outputs": [
    {
     "data": {
      "text/html": [
       "4"
      ],
      "text/latex": [
       "4"
      ],
      "text/markdown": [
       "4"
      ],
      "text/plain": [
       "[1] 4"
      ]
     },
     "metadata": {},
     "output_type": "display_data"
    }
   ],
   "source": [
    "min_val =  min(4,6,8)\n",
    "min_val"
   ]
  },
  {
   "cell_type": "code",
   "execution_count": 24,
   "id": "d1ce7945-2997-4f46-ad6a-2927f3058e18",
   "metadata": {},
   "outputs": [
    {
     "data": {
      "text/html": [
       "2"
      ],
      "text/latex": [
       "2"
      ],
      "text/markdown": [
       "2"
      ],
      "text/plain": [
       "[1] 2"
      ]
     },
     "metadata": {},
     "output_type": "display_data"
    }
   ],
   "source": [
    "square = sqrt(4)\n",
    "square"
   ]
  },
  {
   "cell_type": "code",
   "execution_count": 25,
   "id": "050d3aa3-eda7-480a-bbe7-e05d396c28f5",
   "metadata": {},
   "outputs": [
    {
     "data": {
      "text/html": [
       "4.7"
      ],
      "text/latex": [
       "4.7"
      ],
      "text/markdown": [
       "4.7"
      ],
      "text/plain": [
       "[1] 4.7"
      ]
     },
     "metadata": {},
     "output_type": "display_data"
    }
   ],
   "source": [
    "abs_val =  abs(-4.7)\n",
    "abs_val"
   ]
  },
  {
   "cell_type": "code",
   "execution_count": 28,
   "id": "190837a8-6c69-4465-8cbc-90fcd3f72221",
   "metadata": {},
   "outputs": [
    {
     "data": {
      "text/html": [
       "2"
      ],
      "text/latex": [
       "2"
      ],
      "text/markdown": [
       "2"
      ],
      "text/plain": [
       "[1] 2"
      ]
     },
     "metadata": {},
     "output_type": "display_data"
    }
   ],
   "source": [
    "ceiling_val = ceiling(1.4)\n",
    "ceiling_val"
   ]
  },
  {
   "cell_type": "code",
   "execution_count": 29,
   "id": "fd36c5e6-faac-46b0-b6a3-ea88c268c0e3",
   "metadata": {},
   "outputs": [
    {
     "data": {
      "text/html": [
       "1"
      ],
      "text/latex": [
       "1"
      ],
      "text/markdown": [
       "1"
      ],
      "text/plain": [
       "[1] 1"
      ]
     },
     "metadata": {},
     "output_type": "display_data"
    }
   ],
   "source": [
    "floor_val = floor(1.4)\n",
    "floor_val"
   ]
  },
  {
   "cell_type": "code",
   "execution_count": 38,
   "id": "ac4eb74a-3267-477c-a09d-3add31c35bea",
   "metadata": {},
   "outputs": [],
   "source": [
    "# playing with Multiline Strings\n",
    "str <-  \"Lorem ipsum dolor sit amet consectetur adipiscing elit,\n",
    "sed do eiusmod tempor incididunt\n",
    "ut labore et dolore magna aliqua.\""
   ]
  },
  {
   "cell_type": "code",
   "execution_count": 39,
   "id": "2269d216-88f5-490c-9f08-4735b0add9ae",
   "metadata": {},
   "outputs": [
    {
     "data": {
      "text/html": [
       "'Lorem ipsum dolor sit amet consectetur adipiscing elit,\\nsed do eiusmod tempor incididunt\\nut labore et dolore magna aliqua.'"
      ],
      "text/latex": [
       "'Lorem ipsum dolor sit amet consectetur adipiscing elit,\\textbackslash{}nsed do eiusmod tempor incididunt\\textbackslash{}nut labore et dolore magna aliqua.'"
      ],
      "text/markdown": [
       "'Lorem ipsum dolor sit amet consectetur adipiscing elit,\\nsed do eiusmod tempor incididunt\\nut labore et dolore magna aliqua.'"
      ],
      "text/plain": [
       "[1] \"Lorem ipsum dolor sit amet consectetur adipiscing elit,\\nsed do eiusmod tempor incididunt\\nut labore et dolore magna aliqua.\""
      ]
     },
     "metadata": {},
     "output_type": "display_data"
    }
   ],
   "source": [
    "str"
   ]
  },
  {
   "cell_type": "code",
   "execution_count": 40,
   "id": "47b4ba30-75e1-46b6-bade-71f8dc8a7da3",
   "metadata": {},
   "outputs": [
    {
     "name": "stdout",
     "output_type": "stream",
     "text": [
      "Lorem ipsum dolor sit amet consectetur adipiscing elit,\n",
      "sed do eiusmod tempor incididunt\n",
      "ut labore et dolore magna aliqua."
     ]
    }
   ],
   "source": [
    "#If you want the line breaks to be inserted at the same position as in the code, use the cat() function:\n",
    "cat(str) "
   ]
  },
  {
   "cell_type": "code",
   "execution_count": 41,
   "id": "4254a392-df85-47fa-9327-9837f0327663",
   "metadata": {},
   "outputs": [
    {
     "data": {
      "text/html": [
       "122"
      ],
      "text/latex": [
       "122"
      ],
      "text/markdown": [
       "122"
      ],
      "text/plain": [
       "[1] 122"
      ]
     },
     "metadata": {},
     "output_type": "display_data"
    }
   ],
   "source": [
    "#to find the number of characters in a string\n",
    "nchar(str)"
   ]
  },
  {
   "cell_type": "code",
   "execution_count": 44,
   "id": "2892f7e7-7cd7-4fa9-8c9e-9b9362df0b73",
   "metadata": {},
   "outputs": [
    {
     "data": {
      "text/html": [
       "TRUE"
      ],
      "text/latex": [
       "TRUE"
      ],
      "text/markdown": [
       "TRUE"
      ],
      "text/plain": [
       "[1] TRUE"
      ]
     },
     "metadata": {},
     "output_type": "display_data"
    }
   ],
   "source": [
    "#if a character or a sequence of characters are present in a string\n",
    "grepl(\"Lorem\", str)"
   ]
  },
  {
   "cell_type": "code",
   "execution_count": 70,
   "id": "2b4d2742-c78f-4191-86a9-8170240da607",
   "metadata": {},
   "outputs": [
    {
     "name": "stdout",
     "output_type": "stream",
     "text": [
      "[1] \"y is large\"\n"
     ]
    }
   ],
   "source": [
    "#loops\n",
    "x <- 20\n",
    "y <- 30\n",
    "if (x>y){\n",
    "    print(\"X is large\")\n",
    "} else {\n",
    "print(\"y is large\")\n",
    "    }"
   ]
  },
  {
   "cell_type": "code",
   "execution_count": 71,
   "id": "34b76504-08ec-4084-b4a7-060916bd202a",
   "metadata": {},
   "outputs": [
    {
     "name": "stdout",
     "output_type": "stream",
     "text": [
      "[1] 20\n",
      "[1] 21\n",
      "[1] 22\n",
      "[1] 23\n",
      "[1] 24\n"
     ]
    }
   ],
   "source": [
    "while (x < 30){\n",
    "    print (x)\n",
    "    x <- x+1\n",
    "    if (x==25){break}\n",
    "    }"
   ]
  },
  {
   "cell_type": "code",
   "execution_count": 72,
   "id": "ae5d349e-7202-44e8-a75a-1087589826dd",
   "metadata": {},
   "outputs": [
    {
     "name": "stdout",
     "output_type": "stream",
     "text": [
      "[1] 25\n",
      "[1] 26\n",
      "[1] 27\n",
      "[1] 28\n",
      "[1] 29\n"
     ]
    }
   ],
   "source": [
    "while (x < 30){\n",
    "    print (x)\n",
    "    x <- x+1\n",
    "    if (x==25){next}\n",
    "    }"
   ]
  },
  {
   "cell_type": "code",
   "execution_count": 73,
   "id": "3c1c8fd0-6e4a-4d3e-aa83-a1094a98b5a0",
   "metadata": {},
   "outputs": [
    {
     "name": "stdout",
     "output_type": "stream",
     "text": [
      "[1] \"No Yahtzee\"\n",
      "[1] \"No Yahtzee\"\n",
      "[1] \"No Yahtzee\"\n",
      "[1] \"No Yahtzee\"\n",
      "[1] \"No Yahtzee\"\n",
      "[1] \"Yahtzee!\"\n"
     ]
    }
   ],
   "source": [
    "dice <- 1\n",
    "while (dice <= 6) {\n",
    "  if (dice < 6) {\n",
    "    print(\"No Yahtzee\")\n",
    "  } else {\n",
    "    print(\"Yahtzee!\")\n",
    "  }\n",
    "  dice <- dice + 1\n",
    "}"
   ]
  },
  {
   "cell_type": "code",
   "execution_count": 74,
   "id": "06fe88c5-f6c0-421a-9970-7ff1b8163f25",
   "metadata": {},
   "outputs": [
    {
     "name": "stdout",
     "output_type": "stream",
     "text": [
      "[1] 1\n",
      "[1] 2\n",
      "[1] 3\n",
      "[1] 4\n",
      "[1] 5\n",
      "[1] 6\n",
      "[1] 7\n",
      "[1] 8\n",
      "[1] 9\n",
      "[1] 10\n"
     ]
    }
   ],
   "source": [
    "for (x in 1:10){\n",
    "    print (x)\n",
    "    }"
   ]
  },
  {
   "cell_type": "code",
   "execution_count": 75,
   "id": "7e3f899b-e8ce-4048-8117-75df46a73e1e",
   "metadata": {},
   "outputs": [
    {
     "name": "stdout",
     "output_type": "stream",
     "text": [
      "[1] \"red apple\"\n",
      "[1] \"red banana\"\n",
      "[1] \"red cherry\"\n",
      "[1] \"big apple\"\n",
      "[1] \"big banana\"\n",
      "[1] \"big cherry\"\n",
      "[1] \"tasty apple\"\n",
      "[1] \"tasty banana\"\n",
      "[1] \"tasty cherry\"\n"
     ]
    }
   ],
   "source": [
    "adj <- list(\"red\", \"big\", \"tasty\")\n",
    "\n",
    "fruits <- list(\"apple\", \"banana\", \"cherry\")\n",
    "  for (x in adj) {\n",
    "    for (y in fruits) {\n",
    "      print(paste(x, y))\n",
    "  }\n",
    "}"
   ]
  },
  {
   "cell_type": "code",
   "execution_count": 77,
   "id": "9b8bae58-60f3-4bc1-8b6e-c2f56997486d",
   "metadata": {},
   "outputs": [
    {
     "name": "stdout",
     "output_type": "stream",
     "text": [
      "[1] \"I love\"\n"
     ]
    }
   ],
   "source": [
    "#Creating a Function\n",
    "my_func <- function(){\n",
    "    print('I love')\n",
    "    }\n",
    "my_func()"
   ]
  },
  {
   "cell_type": "code",
   "execution_count": 81,
   "id": "a1df7965-704f-426a-95e6-e2fd900688a4",
   "metadata": {},
   "outputs": [
    {
     "data": {
      "text/html": [
       "'I love R and Python'"
      ],
      "text/latex": [
       "'I love R and Python'"
      ],
      "text/markdown": [
       "'I love R and Python'"
      ],
      "text/plain": [
       "[1] \"I love R and Python\""
      ]
     },
     "metadata": {},
     "output_type": "display_data"
    }
   ],
   "source": [
    "#Creating a Function\n",
    "my_func <- function(value1,value2){\n",
    "    paste('I love',value1,'and',value2)\n",
    "    }\n",
    "my_func('R','Python')"
   ]
  },
  {
   "cell_type": "code",
   "execution_count": 82,
   "id": "bdf3eb07-4f96-49b5-ae7e-b684db75a7aa",
   "metadata": {},
   "outputs": [
    {
     "name": "stdout",
     "output_type": "stream",
     "text": [
      "[1] 15\n",
      "[1] 25\n",
      "[1] 45\n"
     ]
    }
   ],
   "source": [
    "my_function <- function(x) {\n",
    "  return (5 * x)\n",
    "}\n",
    "\n",
    "print(my_function(3))\n",
    "print(my_function(5))\n",
    "print(my_function(9))"
   ]
  },
  {
   "cell_type": "markdown",
   "id": "12af19fb-41d4-4f4e-a8ae-3d87cb11c96c",
   "metadata": {},
   "source": [
    "# R Vector"
   ]
  },
  {
   "cell_type": "code",
   "execution_count": 83,
   "id": "10ccef28-8727-4ac3-8c60-edb4a6234e4d",
   "metadata": {},
   "outputs": [
    {
     "data": {
      "text/html": [
       "<ol class=list-inline>\n",
       "\t<li>'banana'</li>\n",
       "\t<li>'apple'</li>\n",
       "\t<li>'orange'</li>\n",
       "</ol>\n"
      ],
      "text/latex": [
       "\\begin{enumerate*}\n",
       "\\item 'banana'\n",
       "\\item 'apple'\n",
       "\\item 'orange'\n",
       "\\end{enumerate*}\n"
      ],
      "text/markdown": [
       "1. 'banana'\n",
       "2. 'apple'\n",
       "3. 'orange'\n",
       "\n",
       "\n"
      ],
      "text/plain": [
       "[1] \"banana\" \"apple\"  \"orange\""
      ]
     },
     "metadata": {},
     "output_type": "display_data"
    }
   ],
   "source": [
    "# Vector of strings\n",
    "fruits <- c(\"banana\", \"apple\", \"orange\")\n",
    "\n",
    "# Print fruits\n",
    "fruits"
   ]
  },
  {
   "cell_type": "code",
   "execution_count": 86,
   "id": "86b8c88e-c8ef-436c-9320-ec5d0d968a2f",
   "metadata": {},
   "outputs": [
    {
     "data": {
      "text/html": [
       "3"
      ],
      "text/latex": [
       "3"
      ],
      "text/markdown": [
       "3"
      ],
      "text/plain": [
       "[1] 3"
      ]
     },
     "metadata": {},
     "output_type": "display_data"
    }
   ],
   "source": [
    "length(fruits)"
   ]
  },
  {
   "cell_type": "code",
   "execution_count": 87,
   "id": "ba6f800a-b5c7-4945-830d-5bb9ef665c38",
   "metadata": {},
   "outputs": [
    {
     "data": {
      "text/html": [
       "<ol class=list-inline>\n",
       "\t<li>'apple'</li>\n",
       "\t<li>'banana'</li>\n",
       "\t<li>'orange'</li>\n",
       "</ol>\n"
      ],
      "text/latex": [
       "\\begin{enumerate*}\n",
       "\\item 'apple'\n",
       "\\item 'banana'\n",
       "\\item 'orange'\n",
       "\\end{enumerate*}\n"
      ],
      "text/markdown": [
       "1. 'apple'\n",
       "2. 'banana'\n",
       "3. 'orange'\n",
       "\n",
       "\n"
      ],
      "text/plain": [
       "[1] \"apple\"  \"banana\" \"orange\""
      ]
     },
     "metadata": {},
     "output_type": "display_data"
    }
   ],
   "source": [
    "sort(fruits)"
   ]
  },
  {
   "cell_type": "code",
   "execution_count": 88,
   "id": "71f2969a-9bf4-4714-b32b-26ffdbc44cd2",
   "metadata": {},
   "outputs": [
    {
     "data": {
      "text/html": [
       "'banana'"
      ],
      "text/latex": [
       "'banana'"
      ],
      "text/markdown": [
       "'banana'"
      ],
      "text/plain": [
       "[1] \"banana\""
      ]
     },
     "metadata": {},
     "output_type": "display_data"
    }
   ],
   "source": [
    "fruits [1]"
   ]
  },
  {
   "cell_type": "code",
   "execution_count": 89,
   "id": "5d2f65fe-ffd1-4824-b36d-adf92b216246",
   "metadata": {},
   "outputs": [
    {
     "data": {
      "text/html": [
       "<ol>\n",
       "\t<li>'apple'</li>\n",
       "\t<li>'banana'</li>\n",
       "\t<li>'cherry'</li>\n",
       "</ol>\n"
      ],
      "text/latex": [
       "\\begin{enumerate}\n",
       "\\item 'apple'\n",
       "\\item 'banana'\n",
       "\\item 'cherry'\n",
       "\\end{enumerate}\n"
      ],
      "text/markdown": [
       "1. 'apple'\n",
       "2. 'banana'\n",
       "3. 'cherry'\n",
       "\n",
       "\n"
      ],
      "text/plain": [
       "[[1]]\n",
       "[1] \"apple\"\n",
       "\n",
       "[[2]]\n",
       "[1] \"banana\"\n",
       "\n",
       "[[3]]\n",
       "[1] \"cherry\"\n"
      ]
     },
     "metadata": {},
     "output_type": "display_data"
    }
   ],
   "source": [
    "# List of strings\n",
    "thislist <- list(\"apple\", \"banana\", \"cherry\")\n",
    "\n",
    "# Print the list\n",
    "thislist"
   ]
  },
  {
   "cell_type": "code",
   "execution_count": 90,
   "id": "002bb02c-699a-4055-9098-7a575cf70966",
   "metadata": {},
   "outputs": [],
   "source": [
    "thislist[1] <- \"blackcurrant\""
   ]
  },
  {
   "cell_type": "code",
   "execution_count": 91,
   "id": "d686ae40-be4e-4f34-97b6-b4a06f0b096e",
   "metadata": {},
   "outputs": [
    {
     "data": {
      "text/html": [
       "<ol>\n",
       "\t<li>'blackcurrant'</li>\n",
       "\t<li>'banana'</li>\n",
       "\t<li>'cherry'</li>\n",
       "</ol>\n"
      ],
      "text/latex": [
       "\\begin{enumerate}\n",
       "\\item 'blackcurrant'\n",
       "\\item 'banana'\n",
       "\\item 'cherry'\n",
       "\\end{enumerate}\n"
      ],
      "text/markdown": [
       "1. 'blackcurrant'\n",
       "2. 'banana'\n",
       "3. 'cherry'\n",
       "\n",
       "\n"
      ],
      "text/plain": [
       "[[1]]\n",
       "[1] \"blackcurrant\"\n",
       "\n",
       "[[2]]\n",
       "[1] \"banana\"\n",
       "\n",
       "[[3]]\n",
       "[1] \"cherry\"\n"
      ]
     },
     "metadata": {},
     "output_type": "display_data"
    }
   ],
   "source": [
    "thislist"
   ]
  },
  {
   "cell_type": "code",
   "execution_count": 92,
   "id": "632dcba2-6883-4a83-98cb-ca417657370d",
   "metadata": {},
   "outputs": [
    {
     "data": {
      "text/html": [
       "<ol>\n",
       "\t<li>'blackcurrant'</li>\n",
       "\t<li>'banana'</li>\n",
       "\t<li>'cherry'</li>\n",
       "\t<li>'orange'</li>\n",
       "</ol>\n"
      ],
      "text/latex": [
       "\\begin{enumerate}\n",
       "\\item 'blackcurrant'\n",
       "\\item 'banana'\n",
       "\\item 'cherry'\n",
       "\\item 'orange'\n",
       "\\end{enumerate}\n"
      ],
      "text/markdown": [
       "1. 'blackcurrant'\n",
       "2. 'banana'\n",
       "3. 'cherry'\n",
       "4. 'orange'\n",
       "\n",
       "\n"
      ],
      "text/plain": [
       "[[1]]\n",
       "[1] \"blackcurrant\"\n",
       "\n",
       "[[2]]\n",
       "[1] \"banana\"\n",
       "\n",
       "[[3]]\n",
       "[1] \"cherry\"\n",
       "\n",
       "[[4]]\n",
       "[1] \"orange\"\n"
      ]
     },
     "metadata": {},
     "output_type": "display_data"
    }
   ],
   "source": [
    "append(thislist, \"orange\")"
   ]
  },
  {
   "cell_type": "code",
   "execution_count": 93,
   "id": "dcad6358-2648-4bef-89a9-47cf10d3edf8",
   "metadata": {},
   "outputs": [],
   "source": [
    "newlist <- thislist[-1]"
   ]
  },
  {
   "cell_type": "code",
   "execution_count": 94,
   "id": "49394a82-709e-4b3b-8ca0-737b72cca66e",
   "metadata": {},
   "outputs": [
    {
     "data": {
      "text/html": [
       "<ol>\n",
       "\t<li>'blackcurrant'</li>\n",
       "\t<li>'banana'</li>\n",
       "\t<li>'cherry'</li>\n",
       "</ol>\n"
      ],
      "text/latex": [
       "\\begin{enumerate}\n",
       "\\item 'blackcurrant'\n",
       "\\item 'banana'\n",
       "\\item 'cherry'\n",
       "\\end{enumerate}\n"
      ],
      "text/markdown": [
       "1. 'blackcurrant'\n",
       "2. 'banana'\n",
       "3. 'cherry'\n",
       "\n",
       "\n"
      ],
      "text/plain": [
       "[[1]]\n",
       "[1] \"blackcurrant\"\n",
       "\n",
       "[[2]]\n",
       "[1] \"banana\"\n",
       "\n",
       "[[3]]\n",
       "[1] \"cherry\"\n"
      ]
     },
     "metadata": {},
     "output_type": "display_data"
    }
   ],
   "source": [
    "thislist"
   ]
  },
  {
   "cell_type": "markdown",
   "id": "706145b7-340a-46ea-9f30-d63bf476f8e4",
   "metadata": {},
   "source": [
    "# Matrices|"
   ]
  },
  {
   "cell_type": "code",
   "execution_count": 95,
   "id": "69b092c5-5817-4ebd-b3f8-1dd6c6b0ebd4",
   "metadata": {},
   "outputs": [],
   "source": [
    "mat <- matrix(c(1,2,3,4,5,6), nrow = 3, ncol = 2)"
   ]
  },
  {
   "cell_type": "code",
   "execution_count": 96,
   "id": "ab13248f-e844-4262-af49-0093b8946b27",
   "metadata": {},
   "outputs": [
    {
     "data": {
      "text/html": [
       "<table>\n",
       "<tbody>\n",
       "\t<tr><td>1</td><td>4</td></tr>\n",
       "\t<tr><td>2</td><td>5</td></tr>\n",
       "\t<tr><td>3</td><td>6</td></tr>\n",
       "</tbody>\n",
       "</table>\n"
      ],
      "text/latex": [
       "\\begin{tabular}{ll}\n",
       "\t 1 & 4\\\\\n",
       "\t 2 & 5\\\\\n",
       "\t 3 & 6\\\\\n",
       "\\end{tabular}\n"
      ],
      "text/markdown": [
       "\n",
       "| 1 | 4 |\n",
       "| 2 | 5 |\n",
       "| 3 | 6 |\n",
       "\n"
      ],
      "text/plain": [
       "     [,1] [,2]\n",
       "[1,] 1    4   \n",
       "[2,] 2    5   \n",
       "[3,] 3    6   "
      ]
     },
     "metadata": {},
     "output_type": "display_data"
    }
   ],
   "source": [
    "mat"
   ]
  },
  {
   "cell_type": "markdown",
   "id": "f516739e-a4ec-4aa8-b8f6-8e415e3ae32e",
   "metadata": {},
   "source": [
    "# DataFrame"
   ]
  },
  {
   "cell_type": "code",
   "execution_count": 97,
   "id": "e66ebf74-51eb-462c-b020-22e963908a5b",
   "metadata": {},
   "outputs": [],
   "source": [
    "# Create a data frame\n",
    "Data_Frame <- data.frame (\n",
    "  Training = c(\"Strength\", \"Stamina\", \"Other\"),\n",
    "  Pulse = c(100, 150, 120),\n",
    "  Duration = c(60, 30, 45)\n",
    ")"
   ]
  },
  {
   "cell_type": "code",
   "execution_count": 98,
   "id": "ba7d2109-5fb8-4301-b562-15fa0ff559cc",
   "metadata": {},
   "outputs": [
    {
     "data": {
      "text/html": [
       "<table>\n",
       "<thead><tr><th scope=col>Training</th><th scope=col>Pulse</th><th scope=col>Duration</th></tr></thead>\n",
       "<tbody>\n",
       "\t<tr><td>Strength</td><td>100     </td><td>60      </td></tr>\n",
       "\t<tr><td>Stamina </td><td>150     </td><td>30      </td></tr>\n",
       "\t<tr><td>Other   </td><td>120     </td><td>45      </td></tr>\n",
       "</tbody>\n",
       "</table>\n"
      ],
      "text/latex": [
       "\\begin{tabular}{r|lll}\n",
       " Training & Pulse & Duration\\\\\n",
       "\\hline\n",
       "\t Strength & 100      & 60      \\\\\n",
       "\t Stamina  & 150      & 30      \\\\\n",
       "\t Other    & 120      & 45      \\\\\n",
       "\\end{tabular}\n"
      ],
      "text/markdown": [
       "\n",
       "| Training | Pulse | Duration |\n",
       "|---|---|---|\n",
       "| Strength | 100      | 60       |\n",
       "| Stamina  | 150      | 30       |\n",
       "| Other    | 120      | 45       |\n",
       "\n"
      ],
      "text/plain": [
       "  Training Pulse Duration\n",
       "1 Strength 100   60      \n",
       "2 Stamina  150   30      \n",
       "3 Other    120   45      "
      ]
     },
     "metadata": {},
     "output_type": "display_data"
    }
   ],
   "source": [
    "Data_Frame"
   ]
  },
  {
   "cell_type": "code",
   "execution_count": 99,
   "id": "1624cb5e-ad75-4a39-a597-170f60d4aa08",
   "metadata": {},
   "outputs": [
    {
     "data": {
      "text/plain": [
       "     Training     Pulse          Duration   \n",
       " Other   :1   Min.   :100.0   Min.   :30.0  \n",
       " Stamina :1   1st Qu.:110.0   1st Qu.:37.5  \n",
       " Strength:1   Median :120.0   Median :45.0  \n",
       "              Mean   :123.3   Mean   :45.0  \n",
       "              3rd Qu.:135.0   3rd Qu.:52.5  \n",
       "              Max.   :150.0   Max.   :60.0  "
      ]
     },
     "metadata": {},
     "output_type": "display_data"
    }
   ],
   "source": [
    "summary(Data_Frame)"
   ]
  },
  {
   "cell_type": "code",
   "execution_count": 100,
   "id": "a7afe878-7644-49e9-8951-058a38095559",
   "metadata": {},
   "outputs": [
    {
     "data": {
      "text/html": [
       "<table>\n",
       "<thead><tr><th scope=col>Training</th></tr></thead>\n",
       "<tbody>\n",
       "\t<tr><td>Strength</td></tr>\n",
       "\t<tr><td>Stamina </td></tr>\n",
       "\t<tr><td>Other   </td></tr>\n",
       "</tbody>\n",
       "</table>\n"
      ],
      "text/latex": [
       "\\begin{tabular}{r|l}\n",
       " Training\\\\\n",
       "\\hline\n",
       "\t Strength\\\\\n",
       "\t Stamina \\\\\n",
       "\t Other   \\\\\n",
       "\\end{tabular}\n"
      ],
      "text/markdown": [
       "\n",
       "| Training |\n",
       "|---|\n",
       "| Strength |\n",
       "| Stamina  |\n",
       "| Other    |\n",
       "\n"
      ],
      "text/plain": [
       "  Training\n",
       "1 Strength\n",
       "2 Stamina \n",
       "3 Other   "
      ]
     },
     "metadata": {},
     "output_type": "display_data"
    }
   ],
   "source": [
    "Data_Frame[1]"
   ]
  },
  {
   "cell_type": "code",
   "execution_count": 101,
   "id": "9ae324de-0263-4c4a-b42d-bd64ad35e6bb",
   "metadata": {},
   "outputs": [
    {
     "data": {
      "text/html": [
       "<ol class=list-inline>\n",
       "\t<li>Strength</li>\n",
       "\t<li>Stamina</li>\n",
       "\t<li>Other</li>\n",
       "</ol>\n",
       "\n",
       "<details>\n",
       "\t<summary style=display:list-item;cursor:pointer>\n",
       "\t\t<strong>Levels</strong>:\n",
       "\t</summary>\n",
       "\t<ol class=list-inline>\n",
       "\t\t<li>'Other'</li>\n",
       "\t\t<li>'Stamina'</li>\n",
       "\t\t<li>'Strength'</li>\n",
       "\t</ol>\n",
       "</details>"
      ],
      "text/latex": [
       "\\begin{enumerate*}\n",
       "\\item Strength\n",
       "\\item Stamina\n",
       "\\item Other\n",
       "\\end{enumerate*}\n",
       "\n",
       "\\emph{Levels}: \\begin{enumerate*}\n",
       "\\item 'Other'\n",
       "\\item 'Stamina'\n",
       "\\item 'Strength'\n",
       "\\end{enumerate*}\n"
      ],
      "text/markdown": [
       "1. Strength\n",
       "2. Stamina\n",
       "3. Other\n",
       "\n",
       "\n",
       "\n",
       "**Levels**: 1. 'Other'\n",
       "2. 'Stamina'\n",
       "3. 'Strength'\n",
       "\n",
       "\n"
      ],
      "text/plain": [
       "[1] Strength Stamina  Other   \n",
       "Levels: Other Stamina Strength"
      ]
     },
     "metadata": {},
     "output_type": "display_data"
    }
   ],
   "source": [
    "Data_Frame[[\"Training\"]]"
   ]
  },
  {
   "cell_type": "code",
   "execution_count": 102,
   "id": "6c1cde53-eebe-4585-be1f-efc137495828",
   "metadata": {},
   "outputs": [],
   "source": [
    "New_row_DF <- rbind(Data_Frame, c(\"Strength\", 110, 110))"
   ]
  },
  {
   "cell_type": "code",
   "execution_count": 103,
   "id": "719dacbe-c805-4a2e-8737-0b01e5fab923",
   "metadata": {},
   "outputs": [
    {
     "data": {
      "text/html": [
       "<table>\n",
       "<thead><tr><th scope=col>Training</th><th scope=col>Pulse</th><th scope=col>Duration</th></tr></thead>\n",
       "<tbody>\n",
       "\t<tr><td>Strength</td><td>100     </td><td>60      </td></tr>\n",
       "\t<tr><td>Stamina </td><td>150     </td><td>30      </td></tr>\n",
       "\t<tr><td>Other   </td><td>120     </td><td>45      </td></tr>\n",
       "\t<tr><td>Strength</td><td>110     </td><td>110     </td></tr>\n",
       "</tbody>\n",
       "</table>\n"
      ],
      "text/latex": [
       "\\begin{tabular}{r|lll}\n",
       " Training & Pulse & Duration\\\\\n",
       "\\hline\n",
       "\t Strength & 100      & 60      \\\\\n",
       "\t Stamina  & 150      & 30      \\\\\n",
       "\t Other    & 120      & 45      \\\\\n",
       "\t Strength & 110      & 110     \\\\\n",
       "\\end{tabular}\n"
      ],
      "text/markdown": [
       "\n",
       "| Training | Pulse | Duration |\n",
       "|---|---|---|\n",
       "| Strength | 100      | 60       |\n",
       "| Stamina  | 150      | 30       |\n",
       "| Other    | 120      | 45       |\n",
       "| Strength | 110      | 110      |\n",
       "\n"
      ],
      "text/plain": [
       "  Training Pulse Duration\n",
       "1 Strength 100   60      \n",
       "2 Stamina  150   30      \n",
       "3 Other    120   45      \n",
       "4 Strength 110   110     "
      ]
     },
     "metadata": {},
     "output_type": "display_data"
    }
   ],
   "source": [
    "New_row_DF"
   ]
  },
  {
   "cell_type": "code",
   "execution_count": 104,
   "id": "bee70a46-ff72-47f2-9d9c-939589662147",
   "metadata": {},
   "outputs": [],
   "source": [
    "Data_Frame_New <- Data_Frame[-c(1), -c(1)]"
   ]
  },
  {
   "cell_type": "code",
   "execution_count": 105,
   "id": "e04e1fc8-8856-4dda-9ed9-ce50fc69767d",
   "metadata": {},
   "outputs": [
    {
     "data": {
      "text/html": [
       "<table>\n",
       "<thead><tr><th></th><th scope=col>Pulse</th><th scope=col>Duration</th></tr></thead>\n",
       "<tbody>\n",
       "\t<tr><th scope=row>2</th><td>150</td><td>30 </td></tr>\n",
       "\t<tr><th scope=row>3</th><td>120</td><td>45 </td></tr>\n",
       "</tbody>\n",
       "</table>\n"
      ],
      "text/latex": [
       "\\begin{tabular}{r|ll}\n",
       "  & Pulse & Duration\\\\\n",
       "\\hline\n",
       "\t2 & 150 & 30 \\\\\n",
       "\t3 & 120 & 45 \\\\\n",
       "\\end{tabular}\n"
      ],
      "text/markdown": [
       "\n",
       "| <!--/--> | Pulse | Duration |\n",
       "|---|---|---|\n",
       "| 2 | 150 | 30  |\n",
       "| 3 | 120 | 45  |\n",
       "\n"
      ],
      "text/plain": [
       "  Pulse Duration\n",
       "2 150   30      \n",
       "3 120   45      "
      ]
     },
     "metadata": {},
     "output_type": "display_data"
    }
   ],
   "source": [
    "Data_Frame_New"
   ]
  },
  {
   "cell_type": "code",
   "execution_count": 106,
   "id": "fdbc7749-0495-4fae-ae11-625f8ff82aa8",
   "metadata": {},
   "outputs": [
    {
     "data": {
      "image/png": "[encoded data removed]",
      "text/plain": [
       "plot without title"
      ]
     },
     "metadata": {},
     "output_type": "display_data"
    }
   ],
   "source": [
    "plot(1:10, col=\"red\")"
   ]
  },
  {
   "cell_type": "code",
   "execution_count": 107,
   "id": "9d46c4ec-3752-4ac1-a4ac-d41d088680d8",
   "metadata": {},
   "outputs": [
    {
     "data": {
      "image/png": "[encoded data removed]",
      "text/plain": [
       "plot without title"
      ]
     },
     "metadata": {},
     "output_type": "display_data"
    }
   ],
   "source": [
    "plot(1:10, type=\"l\", lwd=2)"
   ]
  },
  {
   "cell_type": "code",
   "execution_count": 110,
   "id": "7e20b310-852f-4392-a4e3-8b357e875480",
   "metadata": {},
   "outputs": [
    {
     "data": {
      "image/png": "[encoded data removed]",
      "text/plain": [
       "Plot with title \"Fruits\""
      ]
     },
     "metadata": {},
     "output_type": "display_data"
    }
   ],
   "source": [
    "# Create a vector of pies\n",
    "x <- c(1,20,30,40)\n",
    "mylabel <- c(\"Apples\", \"Bananas\", \"Cherries\", \"Dates\")\n",
    "# Display the pie chart\n",
    "pie(x, label = mylabel, main = \"Fruits\")"
   ]
  },
  {
   "cell_type": "code",
   "execution_count": 111,
   "id": "e31affa0-bf8a-4817-b66a-fe7c62fa9efa",
   "metadata": {},
   "outputs": [
    {
     "data": {
      "image/png": "[encoded data removed]",
      "text/plain": [
       "plot without title"
      ]
     },
     "metadata": {},
     "output_type": "display_data"
    }
   ],
   "source": [
    "# x-axis values\n",
    "x <- c(\"A\", \"B\", \"C\", \"D\")\n",
    "\n",
    "# y-axis values\n",
    "y <- c(2, 4, 6, 8)\n",
    "\n",
    "barplot(y, names.arg = x)"
   ]
  },
  {
   "cell_type": "code",
   "execution_count": null,
   "id": "857f1d3d-ae19-4d03-afd2-df96c3a4b6d5",
   "metadata": {},
   "outputs": [],
   "source": []
  }
 ],
 "metadata": {
  "kernelspec": {
   "display_name": "R",
   "language": "R",
   "name": "ir"
  },
  "language_info": {
   "codemirror_mode": "r",
   "file_extension": ".r",
   "mimetype": "text/x-r-source",
   "name": "R",
   "pygments_lexer": "r",
   "version": "3.6.1"
  }
 },
 "nbformat": 4,
 "nbformat_minor": 5
}
