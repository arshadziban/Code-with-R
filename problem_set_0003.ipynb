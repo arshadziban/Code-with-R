{
 "cells": [
  {
   "cell_type": "markdown",
   "metadata": {},
   "source": [
    "rite a R program to create a data frame from four given vectors"
   ]
  },
  {
   "cell_type": "code",
   "execution_count": 21,
   "metadata": {
    "vscode": {
     "languageId": "r"
    }
   },
   "outputs": [
    {
     "data": {
      "text/html": [
       "<table>\n",
       "<thead><tr><th scope=col>name</th><th scope=col>age</th><th scope=col>hight</th><th scope=col>weight</th></tr></thead>\n",
       "<tbody>\n",
       "\t<tr><td>John </td><td>25   </td><td>1.75 </td><td>75   </td></tr>\n",
       "\t<tr><td>Mary </td><td>30   </td><td>1.60 </td><td>50   </td></tr>\n",
       "\t<tr><td>Peter</td><td>35   </td><td>1.80 </td><td>80   </td></tr>\n",
       "</tbody>\n",
       "</table>\n"
      ],
      "text/latex": [
       "\\begin{tabular}{r|llll}\n",
       " name & age & hight & weight\\\\\n",
       "\\hline\n",
       "\t John  & 25    & 1.75  & 75   \\\\\n",
       "\t Mary  & 30    & 1.60  & 50   \\\\\n",
       "\t Peter & 35    & 1.80  & 80   \\\\\n",
       "\\end{tabular}\n"
      ],
      "text/markdown": [
       "\n",
       "| name | age | hight | weight |\n",
       "|---|---|---|---|\n",
       "| John  | 25    | 1.75  | 75    |\n",
       "| Mary  | 30    | 1.60  | 50    |\n",
       "| Peter | 35    | 1.80  | 80    |\n",
       "\n"
      ],
      "text/plain": [
       "  name  age hight weight\n",
       "1 John  25  1.75  75    \n",
       "2 Mary  30  1.60  50    \n",
       "3 Peter 35  1.80  80    "
      ]
     },
     "metadata": {},
     "output_type": "display_data"
    },
    {
     "data": {
      "text/html": [
       "'data.frame'"
      ],
      "text/latex": [
       "'data.frame'"
      ],
      "text/markdown": [
       "'data.frame'"
      ],
      "text/plain": [
       "[1] \"data.frame\""
      ]
     },
     "metadata": {},
     "output_type": "display_data"
    }
   ],
   "source": [
    "name <- c(\"John\", \"Mary\", \"Peter\")\n",
    "age <- c(25, 30, 35)\n",
    "hight <- c(1.75, 1.60, 1.80)\n",
    "weight <- c(75, 50, 80)\n",
    "\n",
    "# Create a data frame\n",
    "df <- data.frame(name, age, hight, weight)\n",
    "\n",
    "df\n",
    "class(df)"
   ]
  },
  {
   "cell_type": "code",
   "execution_count": null,
   "metadata": {
    "vscode": {
     "languageId": "r"
    }
   },
   "outputs": [
    {
     "name": "stdout",
     "output_type": "stream",
     "text": [
      "'data.frame':\t3 obs. of  4 variables:\n",
      " $ name  : Factor w/ 3 levels \"John\",\"Mary\",..: 1 2 3\n",
      " $ age   : num  25 30 35\n",
      " $ hight : num  1.75 1.6 1.8\n",
      " $ weight: num  75 50 80\n",
      "NULL\n"
     ]
    }
   ],
   "source": [
    "# Display the structure of the data frame 'exam_data'\n",
    "print(str(df))"
   ]
  },
  {
   "cell_type": "code",
   "execution_count": null,
   "metadata": {
    "vscode": {
     "languageId": "r"
    }
   },
   "outputs": [
    {
     "data": {
      "text/plain": [
       "    name        age           hight           weight     \n",
       " John :1   Min.   :25.0   Min.   :1.600   Min.   :50.00  \n",
       " Mary :1   1st Qu.:27.5   1st Qu.:1.675   1st Qu.:62.50  \n",
       " Peter:1   Median :30.0   Median :1.750   Median :75.00  \n",
       "           Mean   :30.0   Mean   :1.717   Mean   :68.33  \n",
       "           3rd Qu.:32.5   3rd Qu.:1.775   3rd Qu.:77.50  \n",
       "           Max.   :35.0   Max.   :1.800   Max.   :80.00  "
      ]
     },
     "metadata": {},
     "output_type": "display_data"
    }
   ],
   "source": [
    "#summary of the dataframe\n",
    "summary.data.frame(df)"
   ]
  },
  {
   "cell_type": "code",
   "execution_count": null,
   "metadata": {
    "vscode": {
     "languageId": "r"
    }
   },
   "outputs": [
    {
     "data": {
      "text/plain": [
       "    name        age           hight           weight     \n",
       " John :1   Min.   :25.0   Min.   :1.600   Min.   :50.00  \n",
       " Mary :1   1st Qu.:27.5   1st Qu.:1.675   1st Qu.:62.50  \n",
       " Peter:1   Median :30.0   Median :1.750   Median :75.00  \n",
       "           Mean   :30.0   Mean   :1.717   Mean   :68.33  \n",
       "           3rd Qu.:32.5   3rd Qu.:1.775   3rd Qu.:77.50  \n",
       "           Max.   :35.0   Max.   :1.800   Max.   :80.00  "
      ]
     },
     "metadata": {},
     "output_type": "display_data"
    }
   ],
   "source": [
    "summary(df)"
   ]
  },
  {
   "cell_type": "code",
   "execution_count": null,
   "metadata": {
    "vscode": {
     "languageId": "r"
    }
   },
   "outputs": [],
   "source": [
    "# Extract specific columns using column names\n",
    "result <- df[, c(\"name\", \"age\")]"
   ]
  },
  {
   "cell_type": "code",
   "execution_count": null,
   "metadata": {
    "vscode": {
     "languageId": "r"
    }
   },
   "outputs": [
    {
     "data": {
      "text/html": [
       "<table>\n",
       "<thead><tr><th scope=col>name</th><th scope=col>age</th></tr></thead>\n",
       "<tbody>\n",
       "\t<tr><td>John </td><td>25   </td></tr>\n",
       "\t<tr><td>Mary </td><td>30   </td></tr>\n",
       "\t<tr><td>Peter</td><td>35   </td></tr>\n",
       "</tbody>\n",
       "</table>\n"
      ],
      "text/latex": [
       "\\begin{tabular}{r|ll}\n",
       " name & age\\\\\n",
       "\\hline\n",
       "\t John  & 25   \\\\\n",
       "\t Mary  & 30   \\\\\n",
       "\t Peter & 35   \\\\\n",
       "\\end{tabular}\n"
      ],
      "text/markdown": [
       "\n",
       "| name | age |\n",
       "|---|---|\n",
       "| John  | 25    |\n",
       "| Mary  | 30    |\n",
       "| Peter | 35    |\n",
       "\n"
      ],
      "text/plain": [
       "  name  age\n",
       "1 John  25 \n",
       "2 Mary  30 \n",
       "3 Peter 35 "
      ]
     },
     "metadata": {},
     "output_type": "display_data"
    }
   ],
   "source": [
    "result"
   ]
  },
  {
   "cell_type": "code",
   "execution_count": null,
   "metadata": {
    "vscode": {
     "languageId": "r"
    }
   },
   "outputs": [
    {
     "data": {
      "text/html": [
       "<table>\n",
       "<thead><tr><th scope=col>name</th><th scope=col>age</th><th scope=col>hight</th><th scope=col>weight</th></tr></thead>\n",
       "<tbody>\n",
       "\t<tr><td>John</td><td>25  </td><td>1.75</td><td>75  </td></tr>\n",
       "\t<tr><td>Mary</td><td>30  </td><td>1.60</td><td>50  </td></tr>\n",
       "</tbody>\n",
       "</table>\n"
      ],
      "text/latex": [
       "\\begin{tabular}{r|llll}\n",
       " name & age & hight & weight\\\\\n",
       "\\hline\n",
       "\t John & 25   & 1.75 & 75  \\\\\n",
       "\t Mary & 30   & 1.60 & 50  \\\\\n",
       "\\end{tabular}\n"
      ],
      "text/markdown": [
       "\n",
       "| name | age | hight | weight |\n",
       "|---|---|---|---|\n",
       "| John | 25   | 1.75 | 75   |\n",
       "| Mary | 30   | 1.60 | 50   |\n",
       "\n"
      ],
      "text/plain": [
       "  name age hight weight\n",
       "1 John 25  1.75  75    \n",
       "2 Mary 30  1.60  50    "
      ]
     },
     "metadata": {},
     "output_type": "display_data"
    }
   ],
   "source": [
    "# Extract the first two rows\n",
    "first_two_raw <- df[1:2,] \n",
    "first_two_raw"
   ]
  },
  {
   "cell_type": "code",
   "execution_count": null,
   "metadata": {
    "vscode": {
     "languageId": "r"
    }
   },
   "outputs": [
    {
     "data": {
      "text/html": [
       "<table>\n",
       "<thead><tr><th scope=col>name</th><th scope=col>age</th><th scope=col>hight</th><th scope=col>weight</th></tr></thead>\n",
       "<tbody>\n",
       "\t<tr><td>John </td><td>25   </td><td>1.75 </td><td>75   </td></tr>\n",
       "\t<tr><td>Mary </td><td>30   </td><td>1.60 </td><td>50   </td></tr>\n",
       "\t<tr><td>Peter</td><td>35   </td><td>1.80 </td><td>80   </td></tr>\n",
       "</tbody>\n",
       "</table>\n"
      ],
      "text/latex": [
       "\\begin{tabular}{r|llll}\n",
       " name & age & hight & weight\\\\\n",
       "\\hline\n",
       "\t John  & 25    & 1.75  & 75   \\\\\n",
       "\t Mary  & 30    & 1.60  & 50   \\\\\n",
       "\t Peter & 35    & 1.80  & 80   \\\\\n",
       "\\end{tabular}\n"
      ],
      "text/markdown": [
       "\n",
       "| name | age | hight | weight |\n",
       "|---|---|---|---|\n",
       "| John  | 25    | 1.75  | 75    |\n",
       "| Mary  | 30    | 1.60  | 50    |\n",
       "| Peter | 35    | 1.80  | 80    |\n",
       "\n"
      ],
      "text/plain": [
       "  name  age hight weight\n",
       "1 John  25  1.75  75    \n",
       "2 Mary  30  1.60  50    \n",
       "3 Peter 35  1.80  80    "
      ]
     },
     "metadata": {},
     "output_type": "display_data"
    },
    {
     "data": {
      "text/html": [
       "<table>\n",
       "<thead><tr><th></th><th scope=col>name</th><th scope=col>hight</th></tr></thead>\n",
       "<tbody>\n",
       "\t<tr><th scope=row>2</th><td>Mary </td><td>1.6  </td></tr>\n",
       "\t<tr><th scope=row>3</th><td>Peter</td><td>1.8  </td></tr>\n",
       "</tbody>\n",
       "</table>\n"
      ],
      "text/latex": [
       "\\begin{tabular}{r|ll}\n",
       "  & name & hight\\\\\n",
       "\\hline\n",
       "\t2 & Mary  & 1.6  \\\\\n",
       "\t3 & Peter & 1.8  \\\\\n",
       "\\end{tabular}\n"
      ],
      "text/markdown": [
       "\n",
       "| <!--/--> | name | hight |\n",
       "|---|---|---|\n",
       "| 2 | Mary  | 1.6   |\n",
       "| 3 | Peter | 1.8   |\n",
       "\n"
      ],
      "text/plain": [
       "  name  hight\n",
       "2 Mary  1.6  \n",
       "3 Peter 1.8  "
      ]
     },
     "metadata": {},
     "output_type": "display_data"
    }
   ],
   "source": [
    "# Extract 2nd and 3rd rows with 1st and 3rd columns\n",
    "raw <- df[c(2, 3), c(1, 3)]\n",
    "df\n",
    "raw"
   ]
  },
  {
   "cell_type": "code",
   "execution_count": null,
   "metadata": {
    "vscode": {
     "languageId": "r"
    }
   },
   "outputs": [
    {
     "data": {
      "text/html": [
       "<table>\n",
       "<thead><tr><th scope=col>name</th><th scope=col>age</th><th scope=col>hight</th><th scope=col>weight</th><th scope=col>salary</th><th scope=col>department</th></tr></thead>\n",
       "<tbody>\n",
       "\t<tr><td>John   </td><td>25     </td><td>1.75   </td><td>75     </td><td>50000  </td><td>HR     </td></tr>\n",
       "\t<tr><td>Mary   </td><td>30     </td><td>1.60   </td><td>50     </td><td>60000  </td><td>IT     </td></tr>\n",
       "\t<tr><td>Peter  </td><td>35     </td><td>1.80   </td><td>80     </td><td>75000  </td><td>Finance</td></tr>\n",
       "</tbody>\n",
       "</table>\n"
      ],
      "text/latex": [
       "\\begin{tabular}{r|llllll}\n",
       " name & age & hight & weight & salary & department\\\\\n",
       "\\hline\n",
       "\t John    & 25      & 1.75    & 75      & 50000   & HR     \\\\\n",
       "\t Mary    & 30      & 1.60    & 50      & 60000   & IT     \\\\\n",
       "\t Peter   & 35      & 1.80    & 80      & 75000   & Finance\\\\\n",
       "\\end{tabular}\n"
      ],
      "text/markdown": [
       "\n",
       "| name | age | hight | weight | salary | department |\n",
       "|---|---|---|---|---|---|\n",
       "| John    | 25      | 1.75    | 75      | 50000   | HR      |\n",
       "| Mary    | 30      | 1.60    | 50      | 60000   | IT      |\n",
       "| Peter   | 35      | 1.80    | 80      | 75000   | Finance |\n",
       "\n"
      ],
      "text/plain": [
       "  name  age hight weight salary department\n",
       "1 John  25  1.75  75     50000  HR        \n",
       "2 Mary  30  1.60  50     60000  IT        \n",
       "3 Peter 35  1.80  80     75000  Finance   "
      ]
     },
     "metadata": {},
     "output_type": "display_data"
    }
   ],
   "source": [
    "# ad new column using cbind()\n",
    "df <- cbind(df, department = c(\"HR\", \"IT\", \"Finance\"))\n",
    "df"
   ]
  },
  {
   "cell_type": "code",
   "execution_count": 23,
   "metadata": {
    "vscode": {
     "languageId": "r"
    }
   },
   "outputs": [
    {
     "data": {
      "text/html": [
       "<table>\n",
       "<thead><tr><th scope=col>name</th><th scope=col>age</th><th scope=col>hight</th><th scope=col>weight</th><th scope=col>salary</th></tr></thead>\n",
       "<tbody>\n",
       "\t<tr><td>John </td><td>25   </td><td>1.75 </td><td>75   </td><td>50000</td></tr>\n",
       "\t<tr><td>Mary </td><td>30   </td><td>1.60 </td><td>50   </td><td>60000</td></tr>\n",
       "\t<tr><td>Peter</td><td>35   </td><td>1.80 </td><td>80   </td><td>75000</td></tr>\n",
       "</tbody>\n",
       "</table>\n"
      ],
      "text/latex": [
       "\\begin{tabular}{r|lllll}\n",
       " name & age & hight & weight & salary\\\\\n",
       "\\hline\n",
       "\t John  & 25    & 1.75  & 75    & 50000\\\\\n",
       "\t Mary  & 30    & 1.60  & 50    & 60000\\\\\n",
       "\t Peter & 35    & 1.80  & 80    & 75000\\\\\n",
       "\\end{tabular}\n"
      ],
      "text/markdown": [
       "\n",
       "| name | age | hight | weight | salary |\n",
       "|---|---|---|---|---|\n",
       "| John  | 25    | 1.75  | 75    | 50000 |\n",
       "| Mary  | 30    | 1.60  | 50    | 60000 |\n",
       "| Peter | 35    | 1.80  | 80    | 75000 |\n",
       "\n"
      ],
      "text/plain": [
       "  name  age hight weight salary\n",
       "1 John  25  1.75  75     50000 \n",
       "2 Mary  30  1.60  50     60000 \n",
       "3 Peter 35  1.80  80     75000 "
      ]
     },
     "metadata": {},
     "output_type": "display_data"
    },
    {
     "data": {
      "text/html": [
       "'data.frame'"
      ],
      "text/latex": [
       "'data.frame'"
      ],
      "text/markdown": [
       "'data.frame'"
      ],
      "text/plain": [
       "[1] \"data.frame\""
      ]
     },
     "metadata": {},
     "output_type": "display_data"
    }
   ],
   "source": [
    "#Alternative method: Add a new column 'salary'\n",
    "df$salary <- c(50000, 60000, 75000)\n",
    "df\n",
    "class(df)"
   ]
  },
  {
   "cell_type": "code",
   "execution_count": 31,
   "metadata": {
    "vscode": {
     "languageId": "r"
    }
   },
   "outputs": [
    {
     "data": {
      "text/html": [
       "<table>\n",
       "<thead><tr><th scope=col>name</th><th scope=col>weight</th><th scope=col>salary</th></tr></thead>\n",
       "<tbody>\n",
       "\t<tr><td>John </td><td>75   </td><td>50000</td></tr>\n",
       "\t<tr><td>Mary </td><td>50   </td><td>60000</td></tr>\n",
       "\t<tr><td>Peter</td><td>80   </td><td>75000</td></tr>\n",
       "</tbody>\n",
       "</table>\n"
      ],
      "text/latex": [
       "\\begin{tabular}{r|lll}\n",
       " name & weight & salary\\\\\n",
       "\\hline\n",
       "\t John  & 75    & 50000\\\\\n",
       "\t Mary  & 50    & 60000\\\\\n",
       "\t Peter & 80    & 75000\\\\\n",
       "\\end{tabular}\n"
      ],
      "text/markdown": [
       "\n",
       "| name | weight | salary |\n",
       "|---|---|---|\n",
       "| John  | 75    | 50000 |\n",
       "| Mary  | 50    | 60000 |\n",
       "| Peter | 80    | 75000 |\n",
       "\n"
      ],
      "text/plain": [
       "  name  weight salary\n",
       "1 John  75     50000 \n",
       "2 Mary  50     60000 \n",
       "3 Peter 80     75000 "
      ]
     },
     "metadata": {},
     "output_type": "display_data"
    }
   ],
   "source": [
    "df"
   ]
  },
  {
   "cell_type": "code",
   "execution_count": 32,
   "metadata": {
    "vscode": {
     "languageId": "r"
    }
   },
   "outputs": [],
   "source": [
    "# Add multiple rows using rbind()\n",
    "new_rows <- data.frame(\n",
    "  name = c(\"Eve\", \"Frank\"),\n",
    "  weight = c(150, 180),\n",
    "  salary = c(50000, 60000)\n",
    " \n",
    ")\n",
    "df <- rbind(df, new_rows)"
   ]
  },
  {
   "cell_type": "code",
   "execution_count": 33,
   "metadata": {
    "vscode": {
     "languageId": "r"
    }
   },
   "outputs": [
    {
     "data": {
      "text/html": [
       "<table>\n",
       "<thead><tr><th scope=col>name</th><th scope=col>weight</th><th scope=col>salary</th></tr></thead>\n",
       "<tbody>\n",
       "\t<tr><td>John </td><td> 75  </td><td>50000</td></tr>\n",
       "\t<tr><td>Mary </td><td> 50  </td><td>60000</td></tr>\n",
       "\t<tr><td>Peter</td><td> 80  </td><td>75000</td></tr>\n",
       "\t<tr><td>Eve  </td><td>150  </td><td>50000</td></tr>\n",
       "\t<tr><td>Frank</td><td>180  </td><td>60000</td></tr>\n",
       "</tbody>\n",
       "</table>\n"
      ],
      "text/latex": [
       "\\begin{tabular}{r|lll}\n",
       " name & weight & salary\\\\\n",
       "\\hline\n",
       "\t John  &  75   & 50000\\\\\n",
       "\t Mary  &  50   & 60000\\\\\n",
       "\t Peter &  80   & 75000\\\\\n",
       "\t Eve   & 150   & 50000\\\\\n",
       "\t Frank & 180   & 60000\\\\\n",
       "\\end{tabular}\n"
      ],
      "text/markdown": [
       "\n",
       "| name | weight | salary |\n",
       "|---|---|---|\n",
       "| John  |  75   | 50000 |\n",
       "| Mary  |  50   | 60000 |\n",
       "| Peter |  80   | 75000 |\n",
       "| Eve   | 150   | 50000 |\n",
       "| Frank | 180   | 60000 |\n",
       "\n"
      ],
      "text/plain": [
       "  name  weight salary\n",
       "1 John   75    50000 \n",
       "2 Mary   50    60000 \n",
       "3 Peter  80    75000 \n",
       "4 Eve   150    50000 \n",
       "5 Frank 180    60000 "
      ]
     },
     "metadata": {},
     "output_type": "display_data"
    },
    {
     "data": {
      "text/html": [
       "'data.frame'"
      ],
      "text/latex": [
       "'data.frame'"
      ],
      "text/markdown": [
       "'data.frame'"
      ],
      "text/plain": [
       "[1] \"data.frame\""
      ]
     },
     "metadata": {},
     "output_type": "display_data"
    }
   ],
   "source": [
    "df\n",
    "class(df)"
   ]
  },
  {
   "cell_type": "code",
   "execution_count": 34,
   "metadata": {
    "vscode": {
     "languageId": "r"
    }
   },
   "outputs": [
    {
     "data": {
      "text/html": [
       "<table>\n",
       "<thead><tr><th scope=col>name</th><th scope=col>salary</th></tr></thead>\n",
       "<tbody>\n",
       "\t<tr><td>John </td><td>50000</td></tr>\n",
       "\t<tr><td>Mary </td><td>60000</td></tr>\n",
       "\t<tr><td>Peter</td><td>75000</td></tr>\n",
       "\t<tr><td>Eve  </td><td>50000</td></tr>\n",
       "\t<tr><td>Frank</td><td>60000</td></tr>\n",
       "</tbody>\n",
       "</table>\n"
      ],
      "text/latex": [
       "\\begin{tabular}{r|ll}\n",
       " name & salary\\\\\n",
       "\\hline\n",
       "\t John  & 50000\\\\\n",
       "\t Mary  & 60000\\\\\n",
       "\t Peter & 75000\\\\\n",
       "\t Eve   & 50000\\\\\n",
       "\t Frank & 60000\\\\\n",
       "\\end{tabular}\n"
      ],
      "text/markdown": [
       "\n",
       "| name | salary |\n",
       "|---|---|\n",
       "| John  | 50000 |\n",
       "| Mary  | 60000 |\n",
       "| Peter | 75000 |\n",
       "| Eve   | 50000 |\n",
       "| Frank | 60000 |\n",
       "\n"
      ],
      "text/plain": [
       "  name  salary\n",
       "1 John  50000 \n",
       "2 Mary  60000 \n",
       "3 Peter 75000 \n",
       "4 Eve   50000 \n",
       "5 Frank 60000 "
      ]
     },
     "metadata": {},
     "output_type": "display_data"
    }
   ],
   "source": [
    "df<- df[, !colnames(df) %in% c(\"weight\")]\n",
    "df\n"
   ]
  }
 ],
 "metadata": {
  "kernelspec": {
   "display_name": "R",
   "language": "R",
   "name": "ir"
  },
  "language_info": {
   "codemirror_mode": "r",
   "file_extension": ".r",
   "mimetype": "text/x-r-source",
   "name": "R",
   "pygments_lexer": "r",
   "version": "3.6.1"
  }
 },
 "nbformat": 4,
 "nbformat_minor": 2
}
