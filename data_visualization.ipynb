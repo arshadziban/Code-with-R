{
 "cells": [
  {
   "cell_type": "code",
   "execution_count": 1,
   "metadata": {
    "vscode": {
     "languageId": "r"
    }
   },
   "outputs": [],
   "source": [
    "# Create a data frame in R\n",
    "df <- data.frame(\n",
    "  Ozone = c(41, 36, 12, 18, NA, 28),\n",
    "  Solar.R = c(190, 118, 149, 313, NA, NA),\n",
    "  Wind = c(7.4, 8.0, 12.6, 11.5, 14.3, 14.9),\n",
    "  Temp = c(67, 72, 74, 62, 56, 66),\n",
    "  Month = c(5, 5, 5, 5, 5, 5),\n",
    "  Day = c(1, 2, 3, 4, 5, 6)\n",
    ")"
   ]
  },
  {
   "cell_type": "code",
   "execution_count": 2,
   "metadata": {
    "vscode": {
     "languageId": "r"
    }
   },
   "outputs": [
    {
     "data": {
      "text/html": [
       "<table>\n",
       "<thead><tr><th scope=col>Ozone</th><th scope=col>Solar.R</th><th scope=col>Wind</th><th scope=col>Temp</th><th scope=col>Month</th><th scope=col>Day</th></tr></thead>\n",
       "<tbody>\n",
       "\t<tr><td>41  </td><td>190 </td><td> 7.4</td><td>67  </td><td>5   </td><td>1   </td></tr>\n",
       "\t<tr><td>36  </td><td>118 </td><td> 8.0</td><td>72  </td><td>5   </td><td>2   </td></tr>\n",
       "\t<tr><td>12  </td><td>149 </td><td>12.6</td><td>74  </td><td>5   </td><td>3   </td></tr>\n",
       "\t<tr><td>18  </td><td>313 </td><td>11.5</td><td>62  </td><td>5   </td><td>4   </td></tr>\n",
       "\t<tr><td>NA  </td><td> NA </td><td>14.3</td><td>56  </td><td>5   </td><td>5   </td></tr>\n",
       "\t<tr><td>28  </td><td> NA </td><td>14.9</td><td>66  </td><td>5   </td><td>6   </td></tr>\n",
       "</tbody>\n",
       "</table>\n"
      ],
      "text/latex": [
       "\\begin{tabular}{r|llllll}\n",
       " Ozone & Solar.R & Wind & Temp & Month & Day\\\\\n",
       "\\hline\n",
       "\t 41   & 190  &  7.4 & 67   & 5    & 1   \\\\\n",
       "\t 36   & 118  &  8.0 & 72   & 5    & 2   \\\\\n",
       "\t 12   & 149  & 12.6 & 74   & 5    & 3   \\\\\n",
       "\t 18   & 313  & 11.5 & 62   & 5    & 4   \\\\\n",
       "\t NA   &  NA  & 14.3 & 56   & 5    & 5   \\\\\n",
       "\t 28   &  NA  & 14.9 & 66   & 5    & 6   \\\\\n",
       "\\end{tabular}\n"
      ],
      "text/markdown": [
       "\n",
       "| Ozone | Solar.R | Wind | Temp | Month | Day |\n",
       "|---|---|---|---|---|---|\n",
       "| 41   | 190  |  7.4 | 67   | 5    | 1    |\n",
       "| 36   | 118  |  8.0 | 72   | 5    | 2    |\n",
       "| 12   | 149  | 12.6 | 74   | 5    | 3    |\n",
       "| 18   | 313  | 11.5 | 62   | 5    | 4    |\n",
       "| NA   |  NA  | 14.3 | 56   | 5    | 5    |\n",
       "| 28   |  NA  | 14.9 | 66   | 5    | 6    |\n",
       "\n"
      ],
      "text/plain": [
       "  Ozone Solar.R Wind Temp Month Day\n",
       "1 41    190      7.4 67   5     1  \n",
       "2 36    118      8.0 72   5     2  \n",
       "3 12    149     12.6 74   5     3  \n",
       "4 18    313     11.5 62   5     4  \n",
       "5 NA     NA     14.3 56   5     5  \n",
       "6 28     NA     14.9 66   5     6  "
      ]
     },
     "metadata": {},
     "output_type": "display_data"
    }
   ],
   "source": [
    "df"
   ]
  },
  {
   "cell_type": "code",
   "execution_count": 5,
   "metadata": {
    "vscode": {
     "languageId": "r"
    }
   },
   "outputs": [
    {
     "name": "stdout",
     "output_type": "stream",
     "text": [
      "'data.frame':\t6 obs. of  6 variables:\n",
      " $ Ozone  : num  41 36 12 18 NA 28\n",
      " $ Solar.R: num  190 118 149 313 NA NA\n",
      " $ Wind   : num  7.4 8 12.6 11.5 14.3 14.9\n",
      " $ Temp   : num  67 72 74 62 56 66\n",
      " $ Month  : num  5 5 5 5 5 5\n",
      " $ Day    : num  1 2 3 4 5 6\n"
     ]
    }
   ],
   "source": [
    "# Check the structure of the data frame\n",
    "str(df)"
   ]
  },
  {
   "cell_type": "code",
   "execution_count": 6,
   "metadata": {
    "vscode": {
     "languageId": "r"
    }
   },
   "outputs": [
    {
     "data": {
      "text/plain": [
       "     Ozone       Solar.R           Wind             Temp           Month  \n",
       " Min.   :12   Min.   :118.0   Min.   : 7.400   Min.   :56.00   Min.   :5  \n",
       " 1st Qu.:18   1st Qu.:141.2   1st Qu.: 8.875   1st Qu.:63.00   1st Qu.:5  \n",
       " Median :28   Median :169.5   Median :12.050   Median :66.50   Median :5  \n",
       " Mean   :27   Mean   :192.5   Mean   :11.450   Mean   :66.17   Mean   :5  \n",
       " 3rd Qu.:36   3rd Qu.:220.8   3rd Qu.:13.875   3rd Qu.:70.75   3rd Qu.:5  \n",
       " Max.   :41   Max.   :313.0   Max.   :14.900   Max.   :74.00   Max.   :5  \n",
       " NA's   :1    NA's   :2                                                   \n",
       "      Day      \n",
       " Min.   :1.00  \n",
       " 1st Qu.:2.25  \n",
       " Median :3.50  \n",
       " Mean   :3.50  \n",
       " 3rd Qu.:4.75  \n",
       " Max.   :6.00  \n",
       "               "
      ]
     },
     "metadata": {},
     "output_type": "display_data"
    }
   ],
   "source": [
    "# Summary statistics\n",
    "summary(df)"
   ]
  },
  {
   "cell_type": "code",
   "execution_count": 8,
   "metadata": {
    "vscode": {
     "languageId": "r"
    }
   },
   "outputs": [
    {
     "data": {
      "text/html": [
       "<table>\n",
       "<thead><tr><th></th><th scope=col>Ozone</th><th scope=col>Solar.R</th><th scope=col>Wind</th><th scope=col>Temp</th><th scope=col>Month</th><th scope=col>Day</th></tr></thead>\n",
       "<tbody>\n",
       "\t<tr><th scope=row>5</th><td>NA  </td><td>NA  </td><td>14.3</td><td>56  </td><td>5   </td><td>5   </td></tr>\n",
       "\t<tr><th scope=row>6</th><td>28  </td><td>NA  </td><td>14.9</td><td>66  </td><td>5   </td><td>6   </td></tr>\n",
       "</tbody>\n",
       "</table>\n"
      ],
      "text/latex": [
       "\\begin{tabular}{r|llllll}\n",
       "  & Ozone & Solar.R & Wind & Temp & Month & Day\\\\\n",
       "\\hline\n",
       "\t5 & NA   & NA   & 14.3 & 56   & 5    & 5   \\\\\n",
       "\t6 & 28   & NA   & 14.9 & 66   & 5    & 6   \\\\\n",
       "\\end{tabular}\n"
      ],
      "text/markdown": [
       "\n",
       "| <!--/--> | Ozone | Solar.R | Wind | Temp | Month | Day |\n",
       "|---|---|---|---|---|---|---|\n",
       "| 5 | NA   | NA   | 14.3 | 56   | 5    | 5    |\n",
       "| 6 | 28   | NA   | 14.9 | 66   | 5    | 6    |\n",
       "\n"
      ],
      "text/plain": [
       "  Ozone Solar.R Wind Temp Month Day\n",
       "5 NA    NA      14.3 56   5     5  \n",
       "6 28    NA      14.9 66   5     6  "
      ]
     },
     "metadata": {},
     "output_type": "display_data"
    }
   ],
   "source": [
    "# Rows with any NA values\n",
    "na_rows <- df[!complete.cases(df), ]\n",
    "na_rows"
   ]
  },
  {
   "cell_type": "code",
   "execution_count": 9,
   "metadata": {},
   "outputs": [
    {
     "data": {
      "text/html": [
       "<table>\n",
       "<thead><tr><th scope=col>Ozone</th><th scope=col>Solar.R</th><th scope=col>Wind</th><th scope=col>Temp</th><th scope=col>Month</th><th scope=col>Day</th></tr></thead>\n",
       "<tbody>\n",
       "\t<tr><td>41  </td><td>190 </td><td> 7.4</td><td>67  </td><td>5   </td><td>1   </td></tr>\n",
       "\t<tr><td>36  </td><td>118 </td><td> 8.0</td><td>72  </td><td>5   </td><td>2   </td></tr>\n",
       "\t<tr><td>12  </td><td>149 </td><td>12.6</td><td>74  </td><td>5   </td><td>3   </td></tr>\n",
       "\t<tr><td>18  </td><td>313 </td><td>11.5</td><td>62  </td><td>5   </td><td>4   </td></tr>\n",
       "</tbody>\n",
       "</table>\n"
      ],
      "text/latex": [
       "\\begin{tabular}{r|llllll}\n",
       " Ozone & Solar.R & Wind & Temp & Month & Day\\\\\n",
       "\\hline\n",
       "\t 41   & 190  &  7.4 & 67   & 5    & 1   \\\\\n",
       "\t 36   & 118  &  8.0 & 72   & 5    & 2   \\\\\n",
       "\t 12   & 149  & 12.6 & 74   & 5    & 3   \\\\\n",
       "\t 18   & 313  & 11.5 & 62   & 5    & 4   \\\\\n",
       "\\end{tabular}\n"
      ],
      "text/markdown": [
       "\n",
       "| Ozone | Solar.R | Wind | Temp | Month | Day |\n",
       "|---|---|---|---|---|---|\n",
       "| 41   | 190  |  7.4 | 67   | 5    | 1    |\n",
       "| 36   | 118  |  8.0 | 72   | 5    | 2    |\n",
       "| 12   | 149  | 12.6 | 74   | 5    | 3    |\n",
       "| 18   | 313  | 11.5 | 62   | 5    | 4    |\n",
       "\n"
      ],
      "text/plain": [
       "  Ozone Solar.R Wind Temp Month Day\n",
       "1 41    190      7.4 67   5     1  \n",
       "2 36    118      8.0 72   5     2  \n",
       "3 12    149     12.6 74   5     3  \n",
       "4 18    313     11.5 62   5     4  "
      ]
     },
     "metadata": {},
     "output_type": "display_data"
    }
   ],
   "source": [
    "# Rows without any NA values\n",
    "clean_rows <- df[complete.cases(df), ]\n",
    "clean_rows"
   ]
  },
  {
   "cell_type": "code",
   "execution_count": 10,
   "metadata": {},
   "outputs": [],
   "source": [
    "# Replace NA in Ozone with the mean of the column (excluding NA)\n",
    "df$Ozone[is.na(df$Ozone)] <- mean(df$Ozone, na.rm = TRUE)"
   ]
  },
  {
   "cell_type": "code",
   "execution_count": 11,
   "metadata": {},
   "outputs": [],
   "source": [
    "# Replace NA in Solar.R with the median of the column (excluding NA)\n",
    "df$Solar.R[is.na(df$Solar.R)] <- median(df$Solar.R, na.rm = TRUE)"
   ]
  },
  {
   "cell_type": "code",
   "execution_count": 12,
   "metadata": {},
   "outputs": [
    {
     "data": {
      "text/html": [
       "<table>\n",
       "<thead><tr><th scope=col>Ozone</th><th scope=col>Solar.R</th><th scope=col>Wind</th><th scope=col>Temp</th><th scope=col>Month</th><th scope=col>Day</th></tr></thead>\n",
       "<tbody>\n",
       "\t<tr><td>41   </td><td>190.0</td><td> 7.4 </td><td>67   </td><td>5    </td><td>1    </td></tr>\n",
       "\t<tr><td>36   </td><td>118.0</td><td> 8.0 </td><td>72   </td><td>5    </td><td>2    </td></tr>\n",
       "\t<tr><td>12   </td><td>149.0</td><td>12.6 </td><td>74   </td><td>5    </td><td>3    </td></tr>\n",
       "\t<tr><td>18   </td><td>313.0</td><td>11.5 </td><td>62   </td><td>5    </td><td>4    </td></tr>\n",
       "\t<tr><td>27   </td><td>169.5</td><td>14.3 </td><td>56   </td><td>5    </td><td>5    </td></tr>\n",
       "\t<tr><td>28   </td><td>169.5</td><td>14.9 </td><td>66   </td><td>5    </td><td>6    </td></tr>\n",
       "</tbody>\n",
       "</table>\n"
      ],
      "text/latex": [
       "\\begin{tabular}{r|llllll}\n",
       " Ozone & Solar.R & Wind & Temp & Month & Day\\\\\n",
       "\\hline\n",
       "\t 41    & 190.0 &  7.4  & 67    & 5     & 1    \\\\\n",
       "\t 36    & 118.0 &  8.0  & 72    & 5     & 2    \\\\\n",
       "\t 12    & 149.0 & 12.6  & 74    & 5     & 3    \\\\\n",
       "\t 18    & 313.0 & 11.5  & 62    & 5     & 4    \\\\\n",
       "\t 27    & 169.5 & 14.3  & 56    & 5     & 5    \\\\\n",
       "\t 28    & 169.5 & 14.9  & 66    & 5     & 6    \\\\\n",
       "\\end{tabular}\n"
      ],
      "text/markdown": [
       "\n",
       "| Ozone | Solar.R | Wind | Temp | Month | Day |\n",
       "|---|---|---|---|---|---|\n",
       "| 41    | 190.0 |  7.4  | 67    | 5     | 1     |\n",
       "| 36    | 118.0 |  8.0  | 72    | 5     | 2     |\n",
       "| 12    | 149.0 | 12.6  | 74    | 5     | 3     |\n",
       "| 18    | 313.0 | 11.5  | 62    | 5     | 4     |\n",
       "| 27    | 169.5 | 14.3  | 56    | 5     | 5     |\n",
       "| 28    | 169.5 | 14.9  | 66    | 5     | 6     |\n",
       "\n"
      ],
      "text/plain": [
       "  Ozone Solar.R Wind Temp Month Day\n",
       "1 41    190.0    7.4 67   5     1  \n",
       "2 36    118.0    8.0 72   5     2  \n",
       "3 12    149.0   12.6 74   5     3  \n",
       "4 18    313.0   11.5 62   5     4  \n",
       "5 27    169.5   14.3 56   5     5  \n",
       "6 28    169.5   14.9 66   5     6  "
      ]
     },
     "metadata": {},
     "output_type": "display_data"
    }
   ],
   "source": [
    "df"
   ]
  },
  {
   "cell_type": "code",
   "execution_count": 13,
   "metadata": {},
   "outputs": [
    {
     "name": "stdout",
     "output_type": "stream",
     "text": [
      "  Ozone Solar.R Wind Temp Month Day\n",
      "2    36     118  8.0   72     5   2\n",
      "3    12     149 12.6   74     5   3\n"
     ]
    }
   ],
   "source": [
    "# Filter rows where Temp > 70\n",
    "hot_days <- subset(df, Temp > 70)\n",
    "print(hot_days)"
   ]
  },
  {
   "cell_type": "code",
   "execution_count": 14,
   "metadata": {},
   "outputs": [
    {
     "name": "stdout",
     "output_type": "stream",
     "text": [
      "  Ozone Solar.R Wind Temp Month Day\n",
      "1    41     190  7.4   67     5   1\n",
      "2    36     118  8.0   72     5   2\n"
     ]
    }
   ],
   "source": [
    "# Filter rows where Wind < 10\n",
    "low_wind_days <- subset(df, Wind < 10)\n",
    "print(low_wind_days)"
   ]
  },
  {
   "cell_type": "code",
   "execution_count": 15,
   "metadata": {},
   "outputs": [
    {
     "name": "stdout",
     "output_type": "stream",
     "text": [
      "  Ozone Solar.R Wind Temp Month Day\n",
      "5    27   169.5 14.3   56     5   5\n",
      "4    18   313.0 11.5   62     5   4\n",
      "6    28   169.5 14.9   66     5   6\n",
      "1    41   190.0  7.4   67     5   1\n",
      "2    36   118.0  8.0   72     5   2\n",
      "3    12   149.0 12.6   74     5   3\n"
     ]
    }
   ],
   "source": [
    "# Sort by Temp in ascending order\n",
    "df_sorted <- df[order(df$Temp), ]\n",
    "print(df_sorted)"
   ]
  },
  {
   "cell_type": "code",
   "execution_count": 29,
   "metadata": {},
   "outputs": [
    {
     "name": "stdout",
     "output_type": "stream",
     "text": [
      "  Ozone Solar.R Wind Temp Month Day\n",
      "6    28   169.5 14.9   66     5   6\n",
      "5    27   169.5 14.3   56     5   5\n",
      "3    12   149.0 12.6   74     5   3\n",
      "4    18   313.0 11.5   62     5   4\n",
      "2    36   118.0  8.0   72     5   2\n",
      "1    41   190.0  7.4   67     5   1\n"
     ]
    }
   ],
   "source": [
    "# Sort by Wind in descending order\n",
    "df_sorted_desc <- df[order(-df$Wind), ]\n",
    "print(df_sorted_desc)"
   ]
  },
  {
   "cell_type": "code",
   "execution_count": 41,
   "metadata": {},
   "outputs": [
    {
     "name": "stderr",
     "output_type": "stream",
     "text": [
      "Warning message in plot.window(xlim, ylim, log = log, ...):\n",
      "\"\"na.rm\" is not a graphical parameter\"Warning message in title(main = main, sub = sub, xlab = xlab, ylab = ylab, ...):\n",
      "\"\"na.rm\" is not a graphical parameter\"Warning message in axis(if (horiz) 1 else 2, cex.axis = cex.axis, ...):\n",
      "\"\"na.rm\" is not a graphical parameter\""
     ]
    },
    {
     "data": {
      "image/png": "[encoded data removed]",
      "text/plain": [
       "Plot with title \"Ozone Concentration in Air\""
      ]
     },
     "metadata": {},
     "output_type": "display_data"
    }
   ],
   "source": [
    "barplot(df$Ozone, \n",
    "        main = 'Ozone Concentration in Air', \n",
    "        xlab = 'Ozone Levels', \n",
    "        col = 'red', \n",
    "        horiz = FALSE, \n",
    "        na.rm = TRUE)\n"
   ]
  },
  {
   "cell_type": "code",
   "execution_count": 42,
   "metadata": {},
   "outputs": [
    {
     "data": {
      "image/png": "[encoded data removed]",
      "text/plain": [
       "Plot with title \"Maximum Temperature(Daily)\""
      ]
     },
     "metadata": {},
     "output_type": "display_data"
    }
   ],
   "source": [
    "hist(df$Temp, main =\"Maximum Temperature(Daily)\",\n",
    "    xlab =\"Temperature(Fahrenheit)\",\n",
    "    xlim = c(50, 125), col =\"blue\",\n",
    "    freq = TRUE)"
   ]
  },
  {
   "cell_type": "code",
   "execution_count": 43,
   "metadata": {},
   "outputs": [
    {
     "name": "stderr",
     "output_type": "stream",
     "text": [
      "Warning message in bxp(list(stats = structure(c(7.4, 8, 12.05, 14.3, 14.9), .Dim = c(5L, :\n",
      "\"some notches went outside hinges ('box'): maybe set notch=FALSE\""
     ]
    },
    {
     "data": {
      "image/png": "[encoded data removed]",
      "text/plain": [
       "Plot with title \"Average Wind Speed\n",
       "at La Guardia Airport\""
      ]
     },
     "metadata": {},
     "output_type": "display_data"
    }
   ],
   "source": [
    "# Create boxplot for wind data\n",
    "boxplot(df$Wind, \n",
    "        main = \"Average Wind Speed\\nat La Guardia Airport\",\n",
    "        xlab = \"Miles per hour\", \n",
    "        ylab = \"Wind\",\n",
    "        col = \"orange\", \n",
    "        border = \"brown\",\n",
    "        horizontal = TRUE, \n",
    "        notch = TRUE)"
   ]
  },
  {
   "cell_type": "code",
   "execution_count": 44,
   "metadata": {},
   "outputs": [
    {
     "data": {
      "image/png": "[encoded data removed]",
      "text/plain": [
       "Plot with title \"Box Plots for Air Quality Parameters\""
      ]
     },
     "metadata": {},
     "output_type": "display_data"
    }
   ],
   "source": [
    "# Multiple Box plots, each representing\n",
    "# an Air Quality Parameter\n",
    "boxplot(df[, 0:4], \n",
    "        main ='Box Plots for Air Quality Parameters')"
   ]
  },
  {
   "cell_type": "code",
   "execution_count": 45,
   "metadata": {},
   "outputs": [
    {
     "data": {
      "image/png": "[encoded data removed]",
      "text/plain": [
       "Plot with title \"Scatterplot Example\""
      ]
     },
     "metadata": {},
     "output_type": "display_data"
    }
   ],
   "source": [
    "plot(df$Ozone, df$Month,\n",
    "     main =\"Scatterplot Example\",\n",
    "    xlab =\"Ozone Concentration in parts per billion\",\n",
    "    ylab =\" Month of observation \", pch = 19)"
   ]
  },
  {
   "cell_type": "code",
   "execution_count": 46,
   "metadata": {},
   "outputs": [
    {
     "data": {
      "image/png": "[encoded data removed]",
      "text/plain": [
       "plot without title"
      ]
     },
     "metadata": {},
     "output_type": "display_data"
    }
   ],
   "source": [
    "data <- matrix(rnorm(50, 0, 5), nrow = 5, ncol = 5)\n",
    "\n",
    "# Column names\n",
    "colnames(data) <- paste0(\"col\", 1:5)\n",
    "rownames(data) <- paste0(\"row\", 1:5)\n",
    "\n",
    "# Draw a heatmap\n",
    "heatmap(data)"
   ]
  },
  {
   "cell_type": "code",
   "execution_count": null,
   "metadata": {},
   "outputs": [],
   "source": []
  }
 ],
 "metadata": {
  "kernelspec": {
   "display_name": "R",
   "language": "R",
   "name": "ir"
  },
  "language_info": {
   "codemirror_mode": "r",
   "file_extension": ".r",
   "mimetype": "text/x-r-source",
   "name": "R",
   "pygments_lexer": "r",
   "version": "3.6.1"
  }
 },
 "nbformat": 4,
 "nbformat_minor": 4
}
