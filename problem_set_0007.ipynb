{
 "cells": [
  {
   "cell_type": "code",
   "execution_count": 11,
   "metadata": {
    "vscode": {
     "languageId": "r"
    }
   },
   "outputs": [
    {
     "name": "stdout",
     "output_type": "stream",
     "text": [
      "[1] \"high\"   \"low\"    \"medium\"\n"
     ]
    }
   ],
   "source": [
    "# 1. Write a R program to find the levels of factor of a given vector.\n",
    "\n",
    "vec <- c(\"low\", \"medium\", \"high\", \"low\", \"high\")\n",
    "fac <- factor(vec)\n",
    "levels <- levels(fac)\n",
    "print(levels)"
   ]
  },
  {
   "cell_type": "code",
   "execution_count": 10,
   "metadata": {
    "vscode": {
     "languageId": "r"
    }
   },
   "outputs": [
    {
     "name": "stdout",
     "output_type": "stream",
     "text": [
      "[1] low    medium high   low    high  \n",
      "Levels: high low medium\n"
     ]
    }
   ],
   "source": [
    "print(fac)"
   ]
  },
  {
   "cell_type": "code",
   "execution_count": 12,
   "metadata": {
    "vscode": {
     "languageId": "r"
    }
   },
   "outputs": [
    {
     "name": "stdout",
     "output_type": "stream",
     "text": [
      "[1] low      medium   very low low      very low\n",
      "Levels: very low low medium\n"
     ]
    }
   ],
   "source": [
    "\n",
    "# 2. Write a R program to change the first level of a factor with another level of a given factor.\n",
    "\n",
    "vec <- c(\"low\", \"medium\", \"high\", \"low\", \"high\")\n",
    "fac <- factor(vec)\n",
    "levels(fac)[1] <- \"very low\"\n",
    "print(fac)"
   ]
  }
 ],
 "metadata": {
  "kernelspec": {
   "display_name": "R",
   "language": "R",
   "name": "ir"
  },
  "language_info": {
   "codemirror_mode": "r",
   "file_extension": ".r",
   "mimetype": "text/x-r-source",
   "name": "R",
   "pygments_lexer": "r",
   "version": "3.6.1"
  }
 },
 "nbformat": 4,
 "nbformat_minor": 2
}
