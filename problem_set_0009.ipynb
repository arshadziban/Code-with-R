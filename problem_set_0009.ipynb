{
  "nbformat": 4,
  "nbformat_minor": 0,
  "metadata": {
    "colab": {
      "provenance": [],
      "gpuType": "T4"
    },
    "kernelspec": {
      "name": "ir",
      "display_name": "R"
    },
    "language_info": {
      "name": "R"
    },
    "accelerator": "GPU"
  },
  "cells": [
    {
      "cell_type": "markdown",
      "source": [
        "# Date Processing"
      ],
      "metadata": {
        "id": "gA73kwKctuqi"
      }
    },
    {
      "cell_type": "code",
      "source": [
        "process_dates <- function(date_strings) {\n",
        "  library(lubridate)\n",
        "\n",
        "  parsed_dates <- parse_date_time(date_strings, orders = c(\"ymd\", \"mdy\", \"dmy\", \"ymd\"))\n",
        "\n",
        "\n",
        "  result <- data.frame(\n",
        "    Original_String = date_strings,\n",
        "    Formatted_Date = as.Date(parsed_dates),\n",
        "    Day_of_Week = weekdays(as.Date(parsed_dates)),\n",
        "    stringsAsFactors = FALSE\n",
        "  )\n",
        "\n",
        "\n",
        "  result$Days_Until_Next_New_Year <- as.Date(paste0(year(result$Formatted_Date) + 1, \"-01-01\")) -\n",
        "    result$Formatted_Date\n",
        "\n",
        "  result\n",
        "}"
      ],
      "metadata": {
        "id": "Okrmuil0tqQ9"
      },
      "execution_count": 3,
      "outputs": []
    },
    {
      "cell_type": "code",
      "source": [
        "# Test\n",
        "dates <- c(\"2022-01-15\", \"01/15/2022\", \"15-Jan-2022\", \"20221231\")\n",
        "processed <- process_dates(dates)\n",
        "print(processed)"
      ],
      "metadata": {
        "colab": {
          "base_uri": "https://localhost:8080/"
        },
        "id": "tBEq9iLytypI",
        "outputId": "c63fe6b1-a26e-4864-f4c2-601637ed9029"
      },
      "execution_count": 4,
      "outputs": [
        {
          "output_type": "stream",
          "name": "stdout",
          "text": [
            "  Original_String Formatted_Date Day_of_Week Days_Until_Next_New_Year\n",
            "1      2022-01-15     2022-01-15    Saturday                 351 days\n",
            "2      01/15/2022     2022-01-15    Saturday                 351 days\n",
            "3     15-Jan-2022     2022-01-15    Saturday                 351 days\n",
            "4        20221231     2022-12-31    Saturday                   1 days\n"
          ]
        }
      ]
    },
    {
      "cell_type": "code",
      "source": [],
      "metadata": {
        "id": "9fQRmUglt4dR"
      },
      "execution_count": null,
      "outputs": []
    }
  ]
}