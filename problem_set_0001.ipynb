{
 "cells": [
  {
   "cell_type": "markdown",
   "id": "c564e859-471e-4453-a3bf-9226bd36a6ce",
   "metadata": {},
   "source": [
    "Write a R program that creates a for loop to print numbers from 1 to 10."
   ]
  },
  {
   "cell_type": "code",
   "execution_count": 1,
   "id": "154d1b92-6cae-4aae-b735-a82cad7fb1fc",
   "metadata": {
    "vscode": {
     "languageId": "r"
    }
   },
   "outputs": [
    {
     "name": "stdout",
     "output_type": "stream",
     "text": [
      "[1] 1\n",
      "[1] 2\n",
      "[1] 3\n",
      "[1] 4\n",
      "[1] 5\n",
      "[1] 6\n",
      "[1] 7\n",
      "[1] 8\n",
      "[1] 9\n",
      "[1] 10\n"
     ]
    }
   ],
   "source": [
    "for (i in 1:10){ print (i)}"
   ]
  },
  {
   "cell_type": "markdown",
   "id": "4dcc05fe-c402-45eb-8f0a-b05c648d4c95",
   "metadata": {},
   "source": [
    "Write a R program that creates while loop to calculate the factorial of a given number."
   ]
  },
  {
   "cell_type": "code",
   "execution_count": 6,
   "id": "caf33d2e-65d7-463e-842e-076bbb39745f",
   "metadata": {
    "vscode": {
     "languageId": "r"
    }
   },
   "outputs": [
    {
     "data": {
      "text/html": [
       "120"
      ],
      "text/latex": [
       "120"
      ],
      "text/markdown": [
       "120"
      ],
      "text/plain": [
       "[1] 120"
      ]
     },
     "metadata": {},
     "output_type": "display_data"
    }
   ],
   "source": [
    "cal_fac <- function (n){\n",
    "    fact <- 1\n",
    "    i <- 1\n",
    "    if (n<0){ print (\"Number is negative\")}\n",
    "    else if (n==0){print(\"Factorial of 0 is 1\")}\n",
    "    else {\n",
    "\n",
    "        while (i<=n){fact <- fact*i; i <- i+1}\n",
    "        return(fact)\n",
    "    }\n",
    "}\n",
    "\n",
    "cal_fac(5)"
   ]
  },
  {
   "cell_type": "markdown",
   "id": "f15d1832",
   "metadata": {},
   "source": [
    "Write a R program function to find the sum of all even numbers between two given numbers using a for loop."
   ]
  },
  {
   "cell_type": "code",
   "execution_count": 9,
   "id": "2dad2bde",
   "metadata": {
    "vscode": {
     "languageId": "r"
    }
   },
   "outputs": [
    {
     "data": {
      "text/html": [
       "188000"
      ],
      "text/latex": [
       "188000"
      ],
      "text/markdown": [
       "188000"
      ],
      "text/plain": [
       "[1] 188000"
      ]
     },
     "metadata": {},
     "output_type": "display_data"
    }
   ],
   "source": [
    "evel_sum <- function(start_number,end_number) {\n",
    "\n",
    "  sum <- 0\n",
    "  for (i in start_number:end_number) {\n",
    "    if (i %% 2 == 0) {\n",
    "      sum <- sum + i\n",
    "    }\n",
    "    sum <- sum + i\n",
    "  }\n",
    "  return(sum)\n",
    "}\n",
    "\n",
    "evel_sum(1,500)"
   ]
  },
  {
   "cell_type": "code",
   "execution_count": null,
   "id": "9e0b71a4",
   "metadata": {
    "vscode": {
     "languageId": "r"
    }
   },
   "outputs": [],
   "source": []
  }
 ],
 "metadata": {
  "kernelspec": {
   "display_name": "R",
   "language": "R",
   "name": "ir"
  },
  "language_info": {
   "codemirror_mode": "r",
   "file_extension": ".r",
   "mimetype": "text/x-r-source",
   "name": "R",
   "pygments_lexer": "r",
   "version": "3.6.1"
  }
 },
 "nbformat": 4,
 "nbformat_minor": 5
}
